{
 "cells": [
  {
   "cell_type": "markdown",
   "metadata": {},
   "source": [
    "<img src=\"escudo_utfsm.gif\" style=\"float:right;height:100px\">\n",
    "<img src=\"IsotipoDIisocolor.png\" style=\"float:left;height:100px\">\n",
    "<center>\n",
    "    <h1> ILI285 - Computación Científica I / INF285 - Computación Científica</h1>\n",
    "    <h1> Tarea 3: Interpolación  </h1>\n",
    "    <h3> [S]cientific [C]omputing [T]eam 2019</h3>\n",
    "</center>\n",
    "<p>\n",
    "<center>Junio 2019 - v2.0 </center>\n",
    "</p>\n",
    "\n",
    "---"
   ]
  },
  {
   "cell_type": "markdown",
   "metadata": {},
   "source": [
    "## Contexto\n",
    "\n",
    "Hasta hace no más de una década, los dibujos animados y videojuegos eran visualizados con un *framerate* de entre 12 a 24 *frames* por segundo (*FPS*). Sin embargo, las mejoras en las tecnologías nos permiten hoy disfrutar de videos con una mucho mejor fluidez, siendo el *framerate* estándar actual de 60 *FPS*.\n",
    "\n",
    "### ¿Qué es Interpolación de Movimiento o *Motion-Compensated Frame Interpolation* (MCFI)? \n",
    "\n",
    "Corresponde a un método de **procesamiento de video** en el cual se generan *frames* de animación entre los *frames* existentes, utilizando métodos de interpolación. El objetivo principal es mejorar la fluidez del video.\n",
    "\n",
    "En esta tarea implementaremos MCFI aplicando los algoritmos de interpolación aprendidos en la clase de Computación Científica, para mejorar el *framerate* de un video que posee $N$ FPS (*Frames Per Second*), para luego generar un nuevo video con un total de *frames* mayor al original.\n",
    "\n",
    "---"
   ]
  },
  {
   "cell_type": "markdown",
   "metadata": {},
   "source": [
    "#### Librerías"
   ]
  },
  {
   "cell_type": "code",
   "execution_count": 1,
   "metadata": {
    "colab": {},
    "colab_type": "code",
    "id": "VirQAbpPC_Hf"
   },
   "outputs": [],
   "source": [
    "from __future__ import print_function\n",
    "import numpy as np\n",
    "#pip3 install imutils\n",
    "import imutils\n",
    "#pip3 install opencv-python\n",
    "import cv2 \n",
    "import matplotlib.pyplot as plt\n",
    "import scipy.interpolate as scp\n",
    "import base64\n",
    "from IPython.display import HTML\n",
    "\n",
    "from ipywidgets import interact, interactive, fixed, interact_manual\n",
    "import ipywidgets as widgets\n",
    "from scipy import interpolate\n",
    "from scipy.interpolate import CubicSpline, BarycentricInterpolator, lagrange\n",
    "import sympy as sp"
   ]
  },
  {
   "cell_type": "markdown",
   "metadata": {},
   "source": [
    "---"
   ]
  },
  {
   "cell_type": "markdown",
   "metadata": {},
   "source": [
    "## Problema\n",
    "\n",
    "El problema, descrito de forma general, corresponde al incremento de los FPS de un video, esperando mejorar la fluidez de este. Junto a esta tarea, se adjuntan cuatro videos. El nombre de cada video sigue el formato `video_Nfps.mp4` [1], donde $N$ indica la cantidad de FPS del video. Para esta tarea, trabajaremos con videos con 60, 30, 15 y 5 FPS. Una vez incrementados los FPS, compararemos los resultados con la versión *original* del video.\n",
    "\n",
    "Para ilustrar de manera inicial lo que se desea realizar, considere un video compuesto por los 2 siguientes *frames*:\n",
    "\n",
    "<img src=\"interpolacion2.png\" style=\"float:center;height:200px\">\n",
    "\n",
    "Su algoritmo de interpolación debe ser capaz de construir una o más funciones, utilizando como *data* los frames disponibles del video. En este ejemplo, podríamos construir una interpolación utilizando como datos los dos *frames* disponibles y, mediante esta función, se pueden generar uno o más *frames* dentro de la secuencia para aumentar el *framerate* de su video:\n",
    "\n",
    "<img src=\"interpolacion3.png\" style=\"float:center;height:198px\">\n",
    "\n",
    "---"
   ]
  },
  {
   "cell_type": "markdown",
   "metadata": {},
   "source": [
    "## Sección 1 (40 puntos). Testing de métodos de interpolación\n",
    "\n",
    "En esta pregunta implementaremos una forma sencilla de interpolación de videos. Considere que el video contiene un total de $M$ frames.\n",
    "\n",
    "El proceso de interpolación será **a través de cada pixel**, es decir, si se desea interpolar el pixel $(i, j)$ y generar un nuevo frame, entonces el interpolador se debe construir utilizando como *data* todos los pixeles $(i, j)$ del video. De una forma más matemática, el conjunto de datos está definido por:\n",
    "\n",
    "$$\n",
    "    S_{i,j} = \\{ (x_1, I_1[i, j]), (x_2, I_2[i,j]), \\dots, (x_M, I_M[i,j]) \\},\n",
    "$$\n",
    "\n",
    "donde $x_i$ corresponde a un punto siguiendo una distribución equiespaciada o de Chebyshev e $I_k[i,j]$ denota el valor del pixel $(i,j)$ del $k$-ésimo frame. Su labor en esta pregunta es interpolar los datos de $S_{i,j}$ y así construir los pixeles que se desean agregar entre cada par de frames.\n",
    "\n",
    "1. Implemente la función _interpolate_\\__frames (frames, dst_\\__fps, seconds, interpolator)_. Esta función recibe como parámetros:\n",
    "    * La matriz de _frames_: Video original a interpolar.\n",
    "    * La cantidad original de *fps*.\n",
    "    * La cantidad de _fps_ deseados (mayor a los _fps_ originales).\n",
    "    * La cantidad de segundos que tendrá el video.\n",
    "    * Un string _interpolator_, cuyos valores posibles son:\n",
    "        * \"spline-cubica\": Spline cúbica. Estudie y seleccione un tipo de condición de borde adecuado para el problema, justificando su elección.\n",
    "        * \"spline-lineal\": Spline lineal.\n",
    "        * \"lagrange\": Interpolación polinomial mediante el método Interpolación de Lagrange.\n",
    "        * \"baricentrica\": Interpolación Baricéntrica [2].\n",
    "    * Un string 'points_type', cuyos valores posibles son:\n",
    "        * \"equi\": Para usar una distribución equiespaciada de puntos en el eje de las abscisas.\n",
    "        * \"cheb\": Los x_i (o eje de las abscisas) son los puntos de Chebyshev.\n",
    "\n",
    "    En caso de utilizar código ajeno, ya sean librerías, notebooks del curso u otro, recuerde referenciar apropiadamente.<br/><br/>\n",
    "\n",
    "2. Mediante la función implementada anteriormente, aumentaremos los *framerates* de los videos disponibles. Para esto:\n",
    "    * Tomando como base el _video_\\__30fps.mp4_, genere un video de 60 fps.\n",
    "    * Tomando como base el _video_\\__15fps.mp4_, genere un video de 30 fps.\n",
    "    * Tomando como base el _video_\\__5fps.mp4_, genere un video de 15 fps.\n",
    "    * Tomando como base el _video_\\__5fps.mp4_, genere un video de 60 fps.\n",
    "\n",
    "    Para esto, utilize los 4 interpoladores generados y las distribuciones de puntos especificadas. Mida los tiempos de cómputos de cada método, con cada distribución de puntos."
   ]
  },
  {
   "cell_type": "markdown",
   "metadata": {},
   "source": [
    "Para simplificar el manejo del video en el *notebook*, se les facilita la función `video_to_matrix` que les permitirá abrir un video y transformarlo a una estructura de datos de *numpy*. El resultado será una *array* de dimensión $\\text{height}\\times\\text{width}\\times\\text{Total de frames}$, donde *height* corresponde a la altura (en pixeles) del video y *width* al ancho del video."
   ]
  },
  {
   "cell_type": "markdown",
   "metadata": {},
   "source": [
    "Además, el siguiente código sirve para visualizar un video dentro del mismo *notebook*."
   ]
  },
  {
   "cell_type": "code",
   "execution_count": 2,
   "metadata": {},
   "outputs": [],
   "source": [
    "'''\n",
    "Carga de video a matriz de [height, width, fps*seconds], dejando en escala de grises cada frame, \n",
    "reduciendo su dimensionalidad.\n",
    "\n",
    "Input:\n",
    "    src_name: nombre (o path) de video de origen\n",
    "    seconds: cantidad de tiempo en segundos a considerar del video de origen.\n",
    "\n",
    "Output: \n",
    "    frames: matriz de shape [height, width, fps*seconds], la cual contiene los frames del video original\n",
    "    number_fps: frames por segundo del video original\n",
    "'''\n",
    "def video_to_matrix(src_name, seconds):\n",
    "    # Se lee el video\n",
    "    stream = cv2.VideoCapture(src_name)\n",
    "    \n",
    "    # Dimension del video y fps\n",
    "    height = round(stream.get(cv2.CAP_PROP_FRAME_HEIGHT))\n",
    "    width = round(stream.get(cv2.CAP_PROP_FRAME_WIDTH))\n",
    "    number_fps = stream.get(cv2.CAP_PROP_FPS)\n",
    "    \n",
    "    frames = np.zeros((height, width, round(number_fps)*seconds), dtype=np.float16)\n",
    "    \n",
    "    for i in range(round(number_fps)*seconds):\n",
    "        # Leer el video hasta que no hayan más datos\n",
    "        (grabbed, frame) = stream.read()\n",
    "        if not grabbed:\n",
    "            break\n",
    "            \n",
    "        # Leer el frame y cambiarlo a escala de grises\n",
    "        frame = cv2.resize(frame, (width, height)) \n",
    "        frame = cv2.cvtColor(frame, cv2.COLOR_BGR2GRAY)\n",
    "        frames[:,:,i] = frame\n",
    "        \n",
    "    return frames"
   ]
  },
  {
   "cell_type": "code",
   "execution_count": 4,
   "metadata": {},
   "outputs": [],
   "source": [
    "# Carga de videos una vez, para efectos de rendimiento y memoria\n",
    "video_5fps = video_to_matrix('video_5fps.mp4',5)\n",
    "video_15fps = video_to_matrix('video_15fps.mp4',5)\n",
    "video_30fps = video_to_matrix('video_30fps.mp4',5)\n",
    "video_60fps = video_to_matrix('video_60fps.mp4',5)"
   ]
  },
  {
   "cell_type": "markdown",
   "metadata": {},
   "source": [
    "## Sección 1, Respuesta 1"
   ]
  },
  {
   "cell_type": "code",
   "execution_count": 16,
   "metadata": {},
   "outputs": [],
   "source": [
    "'''\n",
    "frames: array of frames (height x width x total_frames)\n",
    "old_fps: Number of fps of the original video\n",
    "new_fps: fps of output matrix \n",
    "seconds: seconds of video \n",
    "interpolator: Interpolator type\n",
    "points_type: Points distribution to use\n",
    "\n",
    "return: dst_frames (array of frames (height x width x dst_fps*seconds))\n",
    "'''\n",
    "\n",
    "def interpolate_frames(frames, old_fps, new_fps, seconds, interpolator, points_type):\n",
    "    points = np.zeros(old_fps*seconds)\n",
    "    xnew = np.zeros(new_fps*seconds)\n",
    "    func = 0\n",
    "     \n",
    "    if(points_type == \"equi\"):\n",
    "        points = np.linspace(0,old_fps*seconds-1,num=old_fps*seconds)#equispaciados\n",
    "        xnew = np.linspace(0, old_fps*seconds-1 ,num=new_fps*seconds)\n",
    "    else:\n",
    "        points = Chebyshev_points(0,old_fps*seconds-1,old_fps*seconds)\n",
    "        points = np.sort(points)\n",
    "        xnew = Chebyshev_points(points[0],points[-1] ,new_fps*seconds)\n",
    "        xnew = np.sort(xnew)\n",
    "    func = interpolator_switcher(interpolator)\n",
    "    \n",
    "    return func(frames, old_fps,new_fps, seconds, points,xnew)\n",
    "\n",
    "def Chebyshev_points(xmin,xmax,n):\n",
    "    ns = np.arange(1,n+1)\n",
    "    x = np.cos((2*ns-1)*np.pi/(2*n))\n",
    "    return (xmin+xmax)/2 + (xmax-xmin)*x/2"
   ]
  },
  {
   "cell_type": "code",
   "execution_count": 17,
   "metadata": {},
   "outputs": [],
   "source": [
    "'''\n",
    "frames: array of frames (height x width x total_frames)\n",
    "old_fps: Number of fps of the original video\n",
    "seconds: Seconds of video\n",
    "points: points x_i to be evaluated\n",
    "\n",
    "return: polinomial interpolator\n",
    "'''\n",
    "def spline_lineal(frames,old_fps,new_fps,seconds, x_points,xnew):\n",
    "    print(\"spline lineal -> shape: {},new_fps: {} , old_fps: {}\".format(np.shape(frames),new_fps,old_fps))\n",
    "    height , width , total_frames = np.shape(frames)\n",
    "    print(\"filas: {}, cols: {}, total_frames: {}\".format(height, width, total_frames))\n",
    "    \n",
    "    dst_frames = np.zeros((height, width, round(new_fps)*seconds), dtype=np.float16)\n",
    "    \n",
    "    for fila in np.arange(0,height,1):\n",
    "        for columna in np.arange(0,width,1):\n",
    "            y = frames[fila,columna,:]\n",
    "            f = interpolate.interp1d(x_points,y)\n",
    "            ynew = f(xnew)\n",
    "            dst_frames[fila,columna,:] = ynew\n",
    "    \n",
    "    return dst_frames"
   ]
  },
  {
   "cell_type": "code",
   "execution_count": 18,
   "metadata": {},
   "outputs": [],
   "source": [
    "def spline_cubica(frames,old_fps,new_fps,seconds, x_points,xnew):\n",
    "    print(\"spline cubica -> shape: {},new_fps: {} , old_fps: {}\".format(np.shape(frames),new_fps,old_fps))\n",
    "    height , width , total_frames = np.shape(frames)\n",
    "    print(\"filas: {}, cols: {}, total_frames: {}\".format(height, width, total_frames))\n",
    "    \n",
    "    dst_frames = np.zeros((height, width, round(new_fps)*seconds), dtype=np.float16)\n",
    "    \n",
    "    for fila in np.arange(0,height,1):\n",
    "        for columna in np.arange(0,width,1):\n",
    "            y = frames[fila,columna,:]\n",
    "            cs = CubicSpline(x_points,y,bc_type=\"clamped\")\n",
    "            ynew = cs(xnew)\n",
    "            dst_frames[fila,columna,:] = ynew\n",
    "    \n",
    "    return dst_frames"
   ]
  },
  {
   "cell_type": "code",
   "execution_count": 19,
   "metadata": {},
   "outputs": [],
   "source": [
    "def Y(D, xi):\n",
    "    # Function that evaluates the xi's points in the polynomial\n",
    "    if D['M']=='Lagrange':\n",
    "        P = lambda i: [np.prod(i - np.delete(D['x'],j)) for j in range(len(D['x']))]\n",
    "    return [np.dot(D['P'], P(i)) for i in xi]    \n",
    "    \n",
    "def Lagrange(x, y, show=False):\n",
    "    # We calculate the li's \n",
    "    p = np.array([y[i]/np.prod(x[i] - np.delete(x,i)) for i in range(len(x))])\n",
    "    \n",
    "    # The function shows the data if the flag is true\n",
    "    if show:\n",
    "        print('Data Points: '); print([(x[i],y[i]) for i in range(len(x))])\n",
    "        xS = sp.Symbol('x')\n",
    "        L = np.dot(np.array([np.prod(xS - np.delete(x,i))/np.prod(x[i] - np.delete(x,i)) for i in range(len(x))]),y)\n",
    "        print('Interpolation Function: '); \n",
    "        print(L)\n",
    "        \n",
    "    # Finally, we return a data structure with our interpolating polynomial        \n",
    "    D = {'M':'Lagrange',\n",
    "         'P':p,\n",
    "         'x':x,\n",
    "         'y':y}\n",
    "    return D"
   ]
  },
  {
   "cell_type": "code",
   "execution_count": 20,
   "metadata": {},
   "outputs": [],
   "source": [
    "def lagrange_interpolator(frames, old_fps, new_fps, seconds, x_points, xnew):\n",
    "    print(\"Lagrange -> shape: {},new_fps: {} , old_fps: {}\".format(np.shape(frames),new_fps,old_fps))\n",
    "    height , width , total_frames = np.shape(frames)\n",
    "    print(\"filas: {}, cols: {}, total_frames: {}\".format(height, width, total_frames))\n",
    "    \n",
    "    dst_frames = np.zeros((height, width, round(new_fps)*seconds), dtype=np.float16)\n",
    "    \n",
    "    for fila in np.arange(0,height,1):\n",
    "        for columna in np.arange(0,width,1):\n",
    "            y = frames[fila,columna,:]\n",
    "            poly = lagrange(x_points,y)\n",
    "#             D = Lagrange(x_points,y)\n",
    "#             ynew = Y(D , xnew)\n",
    "            ynew = poly(xnew)\n",
    "#             print(ynew)\n",
    "            dst_frames[fila,columna,:] = ynew\n",
    "    \n",
    "    return dst_frames"
   ]
  },
  {
   "cell_type": "code",
   "execution_count": 21,
   "metadata": {},
   "outputs": [],
   "source": [
    "def baricentrica(frames, old_fps, new_fps, seconds, x_points, xnew):\n",
    "    print(\"Baricentrica -> shape: {},new_fps: {} , old_fps: {}\".format(np.shape(frames),new_fps,old_fps))\n",
    "    height , width , total_frames = np.shape(frames)\n",
    "    print(\"filas: {}, cols: {}, total_frames: {}\".format(height, width, total_frames))\n",
    "    \n",
    "    dst_frames = np.zeros((height, width, round(new_fps)*seconds), dtype=np.float16)\n",
    "    \n",
    "    for fila in np.arange(0,height,1):\n",
    "        for columna in np.arange(0,width,1):\n",
    "            y = frames[fila,columna,:]\n",
    "            poly = BarycentricInterpolator(x_points,y)\n",
    "            ynew = poly(xnew)\n",
    "            dst_frames[fila,columna,:] = ynew\n",
    "    \n",
    "    return dst_frames"
   ]
  },
  {
   "cell_type": "code",
   "execution_count": 22,
   "metadata": {},
   "outputs": [],
   "source": [
    "def interpolator_switcher(interpolator):\n",
    "    switcher = {\n",
    "        \"spline-lineal\": spline_lineal,\n",
    "        \"spline-cubica\": spline_cubica,\n",
    "        \"lagrange\": lagrange_interpolator,\n",
    "        \"baricentrica\": baricentrica,\n",
    "    }\n",
    "    return switcher.get(interpolator, lambda: \"Función interpoladora no conocida\")"
   ]
  },
  {
   "cell_type": "markdown",
   "metadata": {},
   "source": [
    "## Sección 1, Respuesta 2"
   ]
  },
  {
   "cell_type": "code",
   "execution_count": 23,
   "metadata": {},
   "outputs": [],
   "source": [
    "'''\n",
    "name: name/path of new video\n",
    "frames: matrix of heightXwidthXframes\n",
    "seconds : seconds of video to consider.\n",
    "\n",
    "returns: None\n",
    "'''\n",
    "\n",
    "def create_video(name_video,frames, seconds):\n",
    "    \n",
    "    fps = int(frames.shape[2]/seconds)\n",
    "    \n",
    "    height = frames.shape[0]\n",
    "    width = frames.shape[1]\n",
    "    \n",
    "    #saving a new video\n",
    "    out = cv2.VideoWriter(name_video,cv2.VideoWriter_fourcc('m','p','4','v'), fps, (width,height))\n",
    "   \n",
    "    for i in range(frames.shape[2]):\n",
    "        frame = np.uint8(frames[:,:,i])\n",
    "        out.write(np.dstack([frame, frame, frame]))\n",
    "    \n",
    "    out.release()\n",
    "    cv2.destroyAllWindows() "
   ]
  },
  {
   "cell_type": "markdown",
   "metadata": {},
   "source": [
    "### De 5 fps a 15 fps"
   ]
  },
  {
   "cell_type": "code",
   "execution_count": 28,
   "metadata": {},
   "outputs": [
    {
     "name": "stdout",
     "output_type": "stream",
     "text": [
      "spline lineal -> shape: (358, 640, 25),new_fps: 15 , old_fps: 5\n",
      "filas: 358, cols: 640, total_frames: 25\n",
      "Wall time: 15.1 s\n"
     ]
    }
   ],
   "source": [
    "%time interpolates_frames_5_15_equi_lineal = interpolate_frames(video_5fps,5,15,5,\"spline-lineal\",\"equi\")\n",
    "create_video(\"./Resultados/from_5_to_15/spline-lineal_equi.mp4\",interpolates_frames_5_15_equi_lineal,5)"
   ]
  },
  {
   "cell_type": "code",
   "execution_count": null,
   "metadata": {},
   "outputs": [],
   "source": [
    "%time interpolates_frames_5_15_cheb_lineal = interpolate_frames(video_5fps,5,15,5,\"spline-lineal\",\"cheb\")\n",
    "create_video(\"./Resultados/from_5_to_15/spline-lineal_cheb.mp4\",interpolates_frames_5_15_cheb_lineal,5)"
   ]
  },
  {
   "cell_type": "code",
   "execution_count": null,
   "metadata": {},
   "outputs": [],
   "source": [
    "%time interpolates_frames_5_15_equi_cubica = interpolate_frames(video_5fps,5,15,5,\"spline-cubica\",\"equi\")\n",
    "create_video(\"./Resultados/from_5_to_15/spline-cubica_equi.mp4\", interpolates_frames_5_15_equi_cubica,5)"
   ]
  },
  {
   "cell_type": "code",
   "execution_count": null,
   "metadata": {},
   "outputs": [],
   "source": [
    "%time interpolates_frames_5_15_cheb_cubica = interpolate_frames(video_5fps,5,15,5,\"spline-cubica\",\"cheb\")\n",
    "create_video(\"./Resultados/from_5_to_15/spline-cubica_cheb.mp4\", interpolates_frames_5_15_cheb_cubica,5)"
   ]
  },
  {
   "cell_type": "code",
   "execution_count": null,
   "metadata": {},
   "outputs": [],
   "source": [
    "#%time  interpolates_frames_5_15_equi_lagrange = interpolate_frames(video_5fps,5,15,5,\"lagrange\",\"equi\")\n",
    "#%time  interpolates_frames_5_15_cheb_lagrange = interpolate_frames(video_5fps,5,15,5,\"lagrange\",\"cheb\")"
   ]
  },
  {
   "cell_type": "code",
   "execution_count": null,
   "metadata": {},
   "outputs": [],
   "source": [
    "%time interpolates_frames_5_15_equi_baricentrica = interpolate_frames(video_5fps,5,15,5,\"baricentrica\",\"equi\")\n",
    "create_video(\"./Resultados/from_5_to_15/baricentrica_equi.mp4\", interpolates_frames_5_15_equi_baricentrica,5)"
   ]
  },
  {
   "cell_type": "code",
   "execution_count": null,
   "metadata": {},
   "outputs": [],
   "source": [
    "%time interpolates_frames_5_15_cheb_baricentrica = interpolate_frames(video_5fps,5,15,5,\"baricentrica\",\"cheb\")\n",
    "create_video(\"./Resultados/from_5_to_15/baricentrica_cheb.mp4\", interpolates_frames_5_15_cheb_baricentrica,5)"
   ]
  },
  {
   "cell_type": "markdown",
   "metadata": {},
   "source": [
    "### De 5 fps a 60 fps"
   ]
  },
  {
   "cell_type": "code",
   "execution_count": null,
   "metadata": {},
   "outputs": [],
   "source": [
    "%time interpolates_frames_5_60_equi_lineal = interpolate_frames(video_5fps,5,60,5,\"spline-lineal\",\"equi\")\n",
    "create_video(\"./Resultados/from_5_to_60/spline-lineal_equi.mp4\", interpolates_frames_5_60_equi_lineal,5)"
   ]
  },
  {
   "cell_type": "code",
   "execution_count": null,
   "metadata": {},
   "outputs": [],
   "source": [
    "%time interpolates_frames_5_60_cheb_lineal = interpolate_frames(video_5fps,5,60,5,\"spline-lineal\",\"cheb\")\n",
    "create_video(\"./Resultados/from_5_to_60/spline-lineal_cheb.mp4\", interpolates_frames_5_60_cheb_lineal,5)"
   ]
  },
  {
   "cell_type": "code",
   "execution_count": null,
   "metadata": {},
   "outputs": [],
   "source": [
    "%time interpolates_frames_5_60_equi_cubica = interpolate_frames(video_5fps,5,60,5,\"spline-cubica\",\"equi\")\n",
    "create_video(\"./Resultados/from_5_to_60/spline-cubica_equi.mp4\", interpolates_frames_5_60_equi_cubica,5)"
   ]
  },
  {
   "cell_type": "code",
   "execution_count": null,
   "metadata": {},
   "outputs": [],
   "source": [
    "%time interpolates_frames_5_60_cheb_cubica = interpolate_frames(video_5fps,5,60,5,\"spline-cubica\",\"cheb\")\n",
    "create_video(\"./Resultados/from_5_to_60/spline-cubica_cheb.mp4\", interpolates_frames_5_60_cheb_cubica,5)"
   ]
  },
  {
   "cell_type": "code",
   "execution_count": null,
   "metadata": {},
   "outputs": [],
   "source": [
    "#%time  interpolates_frames_5_60_equi_lagrange = interpolate_frames(video_5fps,5,60,5,\"lagrange\",\"equi\")"
   ]
  },
  {
   "cell_type": "code",
   "execution_count": null,
   "metadata": {},
   "outputs": [],
   "source": [
    "#%time  interpolates_frames_5_60_cheb_lagrange = interpolate_frames(video_5fps,5,60,5,\"lagrange\",\"cheb\")"
   ]
  },
  {
   "cell_type": "code",
   "execution_count": null,
   "metadata": {},
   "outputs": [],
   "source": [
    "%time interpolates_frames_5_60_equi_baricentrica = interpolate_frames(video_5fps,5,60,5,\"baricentrica\",\"equi\")\n",
    "create_video(\"./Resultados/from_5_to_60/baricentrica_equi.mp4\", interpolates_frames_5_60_equi_baricentrica,5)"
   ]
  },
  {
   "cell_type": "code",
   "execution_count": null,
   "metadata": {},
   "outputs": [],
   "source": [
    "%time interpolates_frames_5_60_cheb_baricentrica = interpolate_frames(video_5fps,5,60,5,\"baricentrica\",\"cheb\")\n",
    "create_video(\"./Resultados/from_5_to_60/baricentrica_cheb.mp4\", interpolates_frames_5_60_cheb_baricentrica,5)"
   ]
  },
  {
   "cell_type": "markdown",
   "metadata": {},
   "source": [
    "### De 15 fps a 30 fps"
   ]
  },
  {
   "cell_type": "code",
   "execution_count": null,
   "metadata": {},
   "outputs": [],
   "source": [
    "%time interpolates_frames_15_30_equi_lineal = interpolate_frames(video_15fps,15,30,5,\"spline-lineal\",\"equi\")\n",
    "create_video(\"./Resultados/from_15_to_30/spline-lineal_equi.mp4\", interpolates_frames_15_30_equi_lineal,5)"
   ]
  },
  {
   "cell_type": "code",
   "execution_count": null,
   "metadata": {},
   "outputs": [],
   "source": [
    "%time interpolates_frames_15_30_cheb_lineal = interpolate_frames(video_15fps,15,30,5,\"spline-lineal\",\"cheb\")\n",
    "create_video(\"./Resultados/from_15_to_30/spline-lineal_cheb.mp4\", interpolates_frames_15_30_cheb_lineal,5)"
   ]
  },
  {
   "cell_type": "code",
   "execution_count": null,
   "metadata": {},
   "outputs": [],
   "source": [
    "%time interpolates_frames_15_30_equi_cubica = interpolate_frames(video_15fps,15,30,5,\"spline-cubica\",\"equi\")\n",
    "create_video(\"./Resultados/from_15_to_30/spline-cubica_equi.mp4\", interpolates_frames_15_30_equi_cubica,5)"
   ]
  },
  {
   "cell_type": "code",
   "execution_count": null,
   "metadata": {},
   "outputs": [],
   "source": [
    "%time interpolates_frames_15_30_cheb_cubica = interpolate_frames(video_15fps,15,30,5,\"spline-cubica\",\"cheb\")\n",
    "create_video(\"./Resultados/from_15_to_30/spline-cubica_cheb.mp4\", interpolates_frames_15_30_cheb_cubica,5)"
   ]
  },
  {
   "cell_type": "code",
   "execution_count": null,
   "metadata": {},
   "outputs": [],
   "source": [
    "%time interpolates_frames_15_30_equi_lagrange = interpolate_frames(video_15fps,15,30,5,\"lagrange\",\"equi\")\n",
    "create_video(\"./Resultados/from_15_to_30/lagrange_equi.mp4\", interpolates_frames_15_30_equi_lagrange,5)"
   ]
  },
  {
   "cell_type": "code",
   "execution_count": null,
   "metadata": {},
   "outputs": [],
   "source": [
    "%time interpolates_frames_15_30_cheb_lagrange = interpolate_frames(video_15fps,15,30,5,\"lagrange\",\"cheb\")\n",
    "create_video(\"./Resultados/from_15_to_30/lagrange_cheb.mp4\", interpolates_frames_15_30_equi_lagrange,5)"
   ]
  },
  {
   "cell_type": "code",
   "execution_count": null,
   "metadata": {},
   "outputs": [],
   "source": [
    "%time interpolates_frames_15_30_equi_baricentrica = interpolate_frames(video_15fps,15,30,5,\"baricentrica\",\"equi\")\n",
    "create_video(\"./Resultados/from_15_to_30/baricentrica_equi.mp4\", interpolates_frames_15_30_equi_baricentrica,5)"
   ]
  },
  {
   "cell_type": "code",
   "execution_count": null,
   "metadata": {},
   "outputs": [],
   "source": [
    "%time interpolates_frames_15_30_cheb_baricentrica = interpolate_frames(video_15fps,15,30,5,\"baricentrica\",\"cheb\")\n",
    "create_video(\"./Resultados/from_15_to_30/baricentrica_cheb.mp4\", interpolates_frames_15_30_cheb_baricentrica,5)"
   ]
  },
  {
   "cell_type": "markdown",
   "metadata": {},
   "source": [
    "### De 30 fps a 60 fps"
   ]
  },
  {
   "cell_type": "code",
   "execution_count": null,
   "metadata": {},
   "outputs": [],
   "source": [
    "%time interpolates_frames_30_60_equi_lineal = interpolate_frames(video_30fps,30,60,5,\"spline-lineal\",\"equi\")\n",
    "create_video(\"./Resultados/from_30_to_60/spline-lineal_equi.mp4\", interpolates_frames_30_60_equi_lineal,5)"
   ]
  },
  {
   "cell_type": "code",
   "execution_count": null,
   "metadata": {},
   "outputs": [],
   "source": [
    "%time interpolates_frames_30_60_cheb_lineal = interpolate_frames(video_30fps,30,60,5,\"spline-lineal\",\"cheb\")\n",
    "create_video(\"./Resultados/from_30_to_60/spline-lineal_cheb.mp4\", interpolates_frames_30_60_cheb_lineal,5)"
   ]
  },
  {
   "cell_type": "code",
   "execution_count": null,
   "metadata": {},
   "outputs": [],
   "source": [
    "%time interpolates_frames_30_60_equi_cubica = interpolate_frames(video_30fps,30,60,5,\"spline-cubica\",\"equi\")\n",
    "create_video(\"./Resultados/from_30_to_60/spline-cubica_equi.mp4\", interpolates_frames_30_60_equi_cubica,5)"
   ]
  },
  {
   "cell_type": "code",
   "execution_count": null,
   "metadata": {},
   "outputs": [],
   "source": [
    "%time interpolates_frames_30_60_cheb_cubica = interpolate_frames(video_30fps,30,60,5,\"spline-cubica\",\"cheb\")\n",
    "create_video(\"./Resultados/from_30_to_60/spline-cubica_cheb.mp4\", interpolates_frames_30_60_cheb_cubica,5)"
   ]
  },
  {
   "cell_type": "code",
   "execution_count": null,
   "metadata": {},
   "outputs": [],
   "source": [
    "%time interpolates_frames_30_60_equi_lagrange = interpolate_frames(video_30fps,30,60,5,\"lagrange\",\"equi\")\n",
    "create_video(\"./Resultados/from_30_to_60/lagrange_equi.mp4\", interpolates_frames_30_60_equi_lagrange,5)"
   ]
  },
  {
   "cell_type": "code",
   "execution_count": null,
   "metadata": {},
   "outputs": [],
   "source": [
    "%time interpolates_frames_30_60_cheb_lagrange = interpolate_frames(video_30fps,30,60,5,\"lagrange\",\"cheb\")\n",
    "create_video(\"./Resultados/from_30_to_60/lagrange_cheb.mp4\", interpolates_frames_30_60_cheb_lagrange,5)"
   ]
  },
  {
   "cell_type": "code",
   "execution_count": 12,
   "metadata": {},
   "outputs": [
    {
     "name": "stdout",
     "output_type": "stream",
     "text": [
      "Baricentrica -> shape: (358, 640, 150),new_fps: 60 , old_fps: 30\n",
      "filas: 358, cols: 640, total_frames: 150\n"
     ]
    }
   ],
   "source": [
    "%time interpolates_frames_30_60_equi_baricentrica = interpolate_frames(video_30fps,30,60,5,\"baricentrica\",\"equi\")\n",
    "create_video(\"./Resultados/from_30_to_60/baricentrica_equi.mp4\", interpolates_frames_30_60_equi_baricentrica,5)"
   ]
  },
  {
   "cell_type": "code",
   "execution_count": 13,
   "metadata": {},
   "outputs": [
    {
     "name": "stdout",
     "output_type": "stream",
     "text": [
      "Baricentrica -> shape: (358, 640, 150),new_fps: 60 , old_fps: 30\n",
      "filas: 358, cols: 640, total_frames: 150\n"
     ]
    }
   ],
   "source": [
    "%time interpolates_frames_30_60_cheb_baricentrica = interpolate_frames(video_30fps,30,60,5,\"baricentrica\",\"cheb\")\n",
    "create_video(\"./Resultados/from_30_to_60/baricentrica_cheb.mp4\", interpolates_frames_30_60_cheb_baricentrica,5)"
   ]
  },
  {
   "cell_type": "markdown",
   "metadata": {},
   "source": [
    "## Sección 2 (15 puntos). Visualización del interpolador y del error, a través del tiempo\n",
    "\n",
    "1. Utilizando el *widget* adjunto, visualice los resultados generados por los interpoladores, su error y comente al respecto. ¿Qué método le parece que tiene un mejor desempeño?\n",
    "\n",
    "**Nota**: usted debe modificar el *widget* en las secciones necesarias para que lea correctamente los videos generados por usted, acorde a los parámetros que se pueden variar. Puede modificar secciones del *widget* para que se adapte a sus códigos."
   ]
  },
  {
   "cell_type": "code",
   "execution_count": 5,
   "metadata": {},
   "outputs": [],
   "source": [
    "def get_requested_frames_interpolated(fps_increase_type,method,points_dist):\n",
    "    if fps_increase_type == \"5->15\":\n",
    "        location = \"./Resultados/from_5_to_15/\"\n",
    "        orig_frames = video_to_matrix('video_5fps.mp4',5)\n",
    "        frames = video_to_matrix('video_15fps.mp4',5)\n",
    "    elif fps_increase_type == \"5->60\":\n",
    "        location = \"./Resultados/from_5_to_60/\"\n",
    "        orig_frames = video_to_matrix('video_5fps.mp4',5)\n",
    "        frames = video_to_matrix('video_60fps.mp4',5)\n",
    "    elif fps_increase_type == \"15->30\":\n",
    "        location = \"./Resultados/from_15_to_30/\"\n",
    "        orig_frames = video_to_matrix('video_15fps.mp4',5)\n",
    "        frames = video_to_matrix('video_30fps.mp4',5)\n",
    "    else:\n",
    "        location = \"./Resultados/from_30_to_60/\"\n",
    "        orig_frames = video_to_matrix('video_30fps.mp4',5)\n",
    "        frames = video_to_matrix('video_60fps.mp4',5)\n",
    "        \n",
    "    action = location + method+\"_\"+points_dist+\".mp4\"\n",
    "    interp_frames = video_to_matrix(action,5)\n",
    "    \n",
    "    if(interp_frames.size == 0):\n",
    "        print(\"Necesitas generar los videos previamente en carpeta 'Resultados', corre las celdas superiores!\")\n",
    "\n",
    "    return {\n",
    "        \"orig_frames\":orig_frames,\n",
    "        \"frames\": frames,\n",
    "        \"interp_frames\": interp_frames\n",
    "           }\n",
    "\n"
   ]
  },
  {
   "cell_type": "code",
   "execution_count": 6,
   "metadata": {
    "scrolled": false
   },
   "outputs": [
    {
     "data": {
      "application/vnd.jupyter.widget-view+json": {
       "model_id": "fb419a7e8b8b4cf48ea6155baef9852a",
       "version_major": 2,
       "version_minor": 0
      },
      "text/plain": [
       "interactive(children=(Dropdown(description='method', options=('spline-cubica', 'spline-lineal', 'lagrange', 'b…"
      ]
     },
     "metadata": {},
     "output_type": "display_data"
    },
    {
     "data": {
      "image/png": "[encoded data removed]",
      "text/plain": [
       "<Figure size 1080x1008 with 2 Axes>"
      ]
     },
     "metadata": {
      "needs_background": "light"
     },
     "output_type": "display_data"
    }
   ],
   "source": [
    "# Widget to plot the interpolation function\n",
    "def plot_interpolation(method, points_dist, i, j, fps_increase_type):\n",
    "    new_fps = 0\n",
    "    old_fps = 0\n",
    "    \n",
    "    # Elegimos el video a trabajar\n",
    "    video_info = get_requested_frames_interpolated(fps_increase_type,method,points_dist)\n",
    "    \n",
    "    orig_frames = video_info[\"orig_frames\"]\n",
    "    frames = video_info[\"frames\"]\n",
    "    interp_frames = video_info[\"interp_frames\"]\n",
    "    if(interp_frames.size == 0):\n",
    "        return\n",
    "    del video_info\n",
    "    \n",
    "    # Un punto por frame\n",
    "    x = np.arange(0, frames.shape[2], 1)\n",
    "    \n",
    "    plt.figure(figsize=(15, 14))\n",
    "    \n",
    "    # Grafico del interpolador y los pixeles reales\n",
    "    plt.subplot(211)\n",
    "    plt.plot(x, interp_frames[i,j,:], 'rx-', label='Video interpolados')\n",
    "    plt.plot(x, frames[i,j,:], 'bd', label='Video esperado', color=\"orange\")\n",
    "    plt.ylim([0, 256])\n",
    "    plt.title('Comparación entre los pixeles interpolados y los deseados')\n",
    "    plt.xlabel('Frame')\n",
    "    plt.ylabel('Valor pixel')\n",
    "    plt.grid(True)\n",
    "    plt.legend(loc=\"best\")\n",
    "    \n",
    "    # Grafico del error\n",
    "    plt.subplot(212)\n",
    "    error_matrix = np.zeros((frames.shape[0], frames.shape[1], round(new_fps)*5), dtype=np.float16)\n",
    "\n",
    "    error_matrix = frames - interp_frames\n",
    "    \n",
    "    plt.plot(x, error_matrix[i,j,:], 'sk-', label='Error de interpolación')\n",
    "    mean_error = np.zeros(error_matrix.shape[2])\n",
    "    sigma = mean_error.copy()\n",
    "    for k in range(error_matrix.shape[2]):\n",
    "        mean_error[k] = error_matrix[:,:,k].mean()\n",
    "        sigma[k] = error_matrix[:,:,k].std()\n",
    "    plt.plot(x, mean_error, '.-', label='Error medio de interpolación')\n",
    "    plt.plot(x, mean_error + sigma, label='Error medio + desviación estándar')\n",
    "    plt.plot(x, mean_error - sigma, label='Error medio - desviación estándar')\n",
    "    plt.title('Error de interpolación')\n",
    "    plt.xlabel('Frame')\n",
    "    plt.ylabel('Error')\n",
    "    plt.grid(True)\n",
    "    plt.legend(loc='best')\n",
    "    \n",
    "    plt.show()\n",
    "    del error_matrix\n",
    "\n",
    "interact(\n",
    "    plot_interpolation, \n",
    "    method=[\"spline-cubica\",\"spline-lineal\",\"lagrange\",\"baricentrica\"],\n",
    "    points_dist=[\"cheb\",\"equi\"],\n",
    "    j=(0, 640),\n",
    "    i=(0, 358),\n",
    "    fps_increase_type=[\"5->15\", \"5->60\", \"15->30\", \"30->60\"]\n",
    ");"
   ]
  },
  {
   "cell_type": "markdown",
   "metadata": {},
   "source": [
    "## Sección 3 (25 puntos). Comparación de Videos\n",
    "\n",
    "1. Utilizando los videos generados en la pregunta anterior, compare visualmente los videos generados con su versión de \"origen\" (video original al que se le agregaron nuevos *frames*) y con la versión \"esperada\" del video; por ejemplo, para la interpolación de 15fps a 30fps, el video de origen sería _video_\\__15fps.mp4_, y el video esperado _video_\\__30fps.mp4_. Comente al respecto. ¿Se realiza correctamente la interpolación? ¿Qué es lo que está haciendo visualmente la interpolación en los videos?\n",
    "\n",
    "    Para ayudar a la visualización de los videos, puede hacer uso de la función _concat_\\__2_\\__videos (src_\\__name, dst_\\__name, seconds)_, la cual permite concatenar o \"unir\" dos videos con el mismo framerate para realizar una comparativa en un nuevo video generado.\n",
    "\n",
    "    _NOTA: Debe hacer un preprocesamiento sobre el video de origen para compararlo con la interpolación, pues la función solo permite unir 2 videos de igual framerate. Una solución simple es repetir cada frame la cantidad necesaria para completar el framerate deseado_ <br/><br/>\n",
    "\n",
    "2. Comente respecto a los tiempos de cómputo obtenidos. ¿Existe alguna correlación entre la calidad del video generado y los tiempos de cómputo?\n",
    "\n",
    "3. Comente respecto al efecto de la distribución de puntos. ¿Genera alguna diferencia la distribución de puntos equiespaciada respecto a los puntos de Chebyshev?"
   ]
  },
  {
   "cell_type": "code",
   "execution_count": null,
   "metadata": {},
   "outputs": [],
   "source": [
    "'''\n",
    "src_name: name/path of first video\n",
    "dst_name: name/path of second video\n",
    "seconds : seconds of video to consider.\n",
    "\n",
    "returns: None\n",
    "'''\n",
    "\n",
    "def concat_2_videos(src_name, dst_name, seconds):\n",
    "    stream = cv2.VideoCapture(src_name)\n",
    "    src_frames = video_to_matrix(src_name, seconds)\n",
    "    print(\"FPS VIDEO \"+src_name+\": \",int(src_frames.shape[2]/seconds))\n",
    "    \n",
    "    stream_2 = cv2.VideoCapture(dst_name)  \n",
    "    dst_frames = video_to_matrix(dst_name, seconds)\n",
    "    print(\"FPS VIDEO \"+dst_name+\": \",int(dst_frames.shape[2]/seconds))\n",
    "\n",
    "    # Close original videos\n",
    "    stream.release()\n",
    "    stream_2.release()\n",
    "    \n",
    "    if dst_frames.shape[2] != src_frames.shape[2]:\n",
    "        print(\"No es posible concatenar dos videos de distinto fps\")\n",
    "        return\n",
    "    \n",
    "    fps = int(dst_frames.shape[2]/seconds)\n",
    "    \n",
    "    #concatenate both videos\n",
    "    conc_frames = np.concatenate((src_frames, dst_frames), axis=1)\n",
    "    \n",
    "    height = conc_frames.shape[0]\n",
    "    width = conc_frames.shape[1]\n",
    "    \n",
    "    #saving comparison on a new video\n",
    "    out = cv2.VideoWriter(\"comparison_\"+src_name+\"_vs_\"+dst_name,cv2.VideoWriter_fourcc('m','p','4','v'), fps, (width,height))\n",
    "   \n",
    "    for i in range(conc_frames.shape[2]):\n",
    "        frame = np.uint8(conc_frames[:,:,i])\n",
    "        out.write(np.dstack([frame, frame, frame]))\n",
    "    \n",
    "    out.release()\n",
    "    cv2.destroyAllWindows() "
   ]
  },
  {
   "cell_type": "code",
   "execution_count": null,
   "metadata": {},
   "outputs": [],
   "source": [
    "concat_2_videos(\"\")"
   ]
  },
  {
   "cell_type": "markdown",
   "metadata": {},
   "source": [
    "## Sección 4 (10 puntos): Conclusión\n",
    "\n",
    "Considerando todo el trabajo anterior, concluya al respecto.\n",
    "\n",
    "1. _¿En palabras simples, qué es lo que realiza el interpolador entre cada par de *frames*?. **Hint: Un análisis frame a frame puede ayudar a responder esto.**_\n",
    "\n",
    "2. _¿De qué manera se pueden mejorar los métodos estudiados para aumentar el framerate de un video?. **Hint: ¿Es adecuado considerar el conjunto de pixeles como independientes entre sí?**_"
   ]
  },
  {
   "cell_type": "markdown",
   "metadata": {},
   "source": [
    "# Referencias\n",
    "[1] Stock footage provided by Videvo, downloaded from https://www.videvo.net\n",
    "\n",
    "[2] Barycentric Lagrange Interpolation, https://people.maths.ox.ac.uk/trefethen/barycentric.pdf"
   ]
  },
  {
   "cell_type": "code",
   "execution_count": null,
   "metadata": {},
   "outputs": [],
   "source": []
  }
 ],
 "metadata": {
  "colab": {
   "collapsed_sections": [],
   "name": "Tarea3_borrador.ipynb",
   "provenance": [
    {
     "file_id": "https://github.com/sgallard/tareasCC/blob/master/tarea3/Tarea3_borrador.ipynb",
     "timestamp": 1558739969669
    }
   ],
   "version": "0.3.2"
  },
  "kernelspec": {
   "display_name": "Python 3",
   "language": "python",
   "name": "python3"
  },
  "language_info": {
   "codemirror_mode": {
    "name": "ipython",
    "version": 3
   },
   "file_extension": ".py",
   "mimetype": "text/x-python",
   "name": "python",
   "nbconvert_exporter": "python",
   "pygments_lexer": "ipython3",
   "version": "3.7.3"
  }
 },
 "nbformat": 4,
 "nbformat_minor": 1
}
