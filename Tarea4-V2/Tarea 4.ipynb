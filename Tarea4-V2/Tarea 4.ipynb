{
 "cells": [
  {
   "cell_type": "markdown",
   "metadata": {},
   "source": [
    "<img src=\"escudo_utfsm.gif\" style=\"float:right;height:100px\">\n",
    "<img src=\"IsotipoDIisocolor.png\" style=\"float:left;height:100px\">\n",
    "<center>\n",
    "    <h1> INF/ILI 285 Computación Científica I</h1>\n",
    "    <h1> Tarea N°4: Extendiendo el Método de Newton </h1>\n",
    "    <h3> [S]cientific [C]omputing [T]eam 2019</h3>\n",
    "</center>\n",
    "<p>\n",
    "<center>Septiembre 2019 - v1.0</center>\n",
    "</p>\n",
    "\n",
    "---"
   ]
  },
  {
   "cell_type": "code",
   "execution_count": 1,
   "metadata": {},
   "outputs": [],
   "source": [
    "from __future__ import print_function\n",
    "import numpy as np\n",
    "import matplotlib.pyplot as plt\n",
    "from ipywidgets import interact, interactive, fixed, interact_manual\n",
    "import ipywidgets as widgets"
   ]
  },
  {
   "cell_type": "markdown",
   "metadata": {},
   "source": [
    "## Contexto\n",
    "\n",
    "Un sistema de ecuaciones no lineales es un sistema en el cual la salida del problema no es linealmente proporcional a las entradas.\n",
    "Este problema se puede representar vectorialmente de la siguiente manera:\n",
    "\n",
    "\\begin{equation*}\n",
    "    \\mathbf{F}(\\mathbf{x})=\\mathbf{y},\n",
    "\\end{equation*}\n",
    "\n",
    "donde $\\mathbf{F}:\\mathbb{R}^n\\rightarrow \\mathbb{R}^n$ es una función no lineal, $\\mathbf{x} \\in \\mathbb{R}^{n}$ e $\\mathbf{y} \\in \\mathbb{R}^{n}$. Como se vio en clases, podemos solucionar este problema usando el método de *Newton multivariado*:\n",
    "\n",
    "\\begin{equation*}\n",
    "    \\mathbf{x_{k+1}}=\\mathbf{x_k}-J_{\\mathbf{G}}^{-1}(\\mathbf{x_k})\\mathbf{G}(\\mathbf{x_k}),\n",
    "\\end{equation*}\n",
    "\n",
    "donde $\\mathbf{G}({\\mathbf{x}})=\\mathbf{F}(\\mathbf{x})-\\mathbf{y}=\\mathbf{0}$, o sea, se está realizando una busqueda de raíces, y $J_{\\mathbf{G}}(\\mathbf{x_k}) \\in \\mathbb{R}^{n\\times n}$ es la matriz jacobiana de $\\mathbf{G}$. Para evitar calcular inversas, la iteración puede ser representada de la siguiente manera:\n",
    "\\begin{align}\n",
    "    \\mathbf{x_{k+1}} &= \\mathbf{x_k}-\\delta\\mathbf{x_k}, \\\\\n",
    "    J_{\\mathbf{G}}(\\mathbf{x_k})\\delta\\mathbf{ x_k} &= \\mathbf{G}(\\mathbf{x_k}).\n",
    "\\end{align}"
   ]
  },
  {
   "cell_type": "markdown",
   "metadata": {},
   "source": [
    "### Sistema no lineal sobredeterminado\n",
    "\n",
    "En la asignatura se aprendió a resolver sistemas no lineales con Newton multivariado cuando $\\mathbf{F}$ va de $\\mathbb{R}^n$ a $\\mathbb{R}^n$. Ahora veremos como resolver el caso en el que $\\mathbf{F}$ va de $\\mathbb{R}^n$ a $\\mathbb{R}^m$, con $m\\geq n$.\n",
    "\n",
    "Al desarrollar un problema de busqueda de raíces multivariado usando Newton multivariado, nos toparemos con que la matriz jacobiana $J_{\\mathbf{G}}(\\mathbf{x_k})$ tiene dimensiones $m\\times n$, y por lo tanto debemos resolver un sistema sobredeterminado. Se introduce entonces el método de *Gauss-Newton*, el cual es similar el Método de Newton multivariado pero en vez de resolver el sistema de ecuaciones lineales sobredeterminado\n",
    "\n",
    "$$\n",
    "    J_{\\mathbf{G}}(\\mathbf{x}_k)\\,\\delta\\mathbf{x}_k = \\mathbf{G}(\\mathbf{x}_k),\n",
    "$$\n",
    "\n",
    "resuelve el siguiente problema de mínimos cuadrados\n",
    "\n",
    "$$\n",
    "    \\min_{\\delta\\mathbf{x}_k \\in \\mathbb{R}^n} \\left\\lVert J_{\\mathbf{G}}(\\mathbf{x}_k)\\,\\delta\\mathbf{x}_k - \\mathbf{G}(\\mathbf{x}_k) \\right\\rVert_2^2.\n",
    "$$\n",
    "\n",
    "Para resolver esto, usaremos las ecuaciones normales:\n",
    "\\begin{equation*}\n",
    "    J_{\\mathbf{G}}^T(\\mathbf{x_k})J_{\\mathbf{G}}(\\mathbf{x_k})\\delta\\mathbf{ x_k}=J_{\\mathbf{G}}^T(\\mathbf{x_k})\\mathbf{G}(\\mathbf{x_k}).\n",
    "\\end{equation*}\n",
    "\n",
    "Para evitar tener matrices singulares, agregaremos una pequeña perturbación a la diagonal de la matriz $J_{\\mathbf{G}}(\\mathbf{x_k})^T\\,J_{\\mathbf{G}}(\\mathbf{x_k})$ igual a un factor real no negativo $\\lambda$ (denominado *factor de amortiguamiento*) por la matriz identidad. Esta modificación, introducida por Kenneth Levenberg, suele ser recalculada en cada iteración. Finalmente, nuestro algoritmo será:\n",
    "\\begin{align}\n",
    "    \\mathbf{x_{k+1}} &= \\mathbf{x_k}-\\delta\\mathbf{x_k}, \\\\\n",
    "    \\left(J_{\\mathbf{G}}^T(\\mathbf{x_k})J_{\\mathbf{G}}(\\mathbf{x_k})+\\lambda I\\right)\\delta\\mathbf{ x_k} &= J_{\\mathbf{G}}^T(\\mathbf{x_k})\\mathbf{G}(\\mathbf{x_k}).\n",
    "\\end{align}"
   ]
  },
  {
   "cell_type": "markdown",
   "metadata": {},
   "source": [
    "## Preguntas\n",
    "---"
   ]
  },
  {
   "cell_type": "markdown",
   "metadata": {},
   "source": [
    "Sea $m$ el número de ecuaciones y $n$ el número de incógnitas, llamaremos $F$ el sistema de funciones no lineales tal que su $i$-ésima ecuación se define como:\n",
    "\n",
    "$$\n",
    "    f_i(\\mathbf{x}) = n + (j+1)\\left(1 - \\cos x_j + \\sin x_j  \\right) - \\sin x_j - \\frac{n}{3}\\left( \\cos x_j + \\cos x_k + \\cos x_w \\right),\n",
    "$$\n",
    "\n",
    "donde $j = i\\% n$, $k = (i+1) \\% n$ y $w = (i+2) \\% n$, y $\\%$ es la operación _módulo_, la cual calcula el resto de la división entre un número y otro. Considere que el RHS del sistema es el vector nulo, esto es $F(\\mathbf{x})=\\mathbf{0}$."
   ]
  },
  {
   "cell_type": "markdown",
   "metadata": {},
   "source": [
    "## Sección 1 (20 puntos)\n",
    "\n",
    "1. Calcule y muestre la estructura de la matriz Jacobiana del sistema entregado, considerando $m$ ecuaciones y $n$ variables. Implemente la rutina `evaluate_jacobian`, la cual debe retornar la matriz evaluada en el vector parámetro $\\mathbf{x}$."
   ]
  },
  {
   "cell_type": "code",
   "execution_count": 50,
   "metadata": {},
   "outputs": [],
   "source": [
    "partial_xj = lambda x_j,j,n: (j*np.sin(x_j) + j*np.cos(x_j) + np.sin(x_j) + (n/3)*np.sin(x_j) )\n",
    "partial_xk = lambda x_k,n: (n/3)*np.sin(x_k)\n",
    "partial_xw = lambda x_w,n: (n/3)*np.sin(x_w)\n",
    "'''\n",
    "Input: \n",
    "m - Number of equations of F\n",
    "n - Number of variables\n",
    "x - (array) Vector of dimension n\n",
    "Output:\n",
    "Jx - (double-array) Vector x evaluated in jacobian matrix of F. Its dimension is mxn \n",
    "'''\n",
    "def evaluate_jacobian(m,n,x):\n",
    "    Jx = np.zeros((m,n))\n",
    "    if(n<=2): return Jx\n",
    "    \n",
    "    for i in range(0,m):\n",
    "        j = i%n\n",
    "        k = (i+1)%n\n",
    "        w = (i+2)%n\n",
    "        print(\"j:{},k:{},w:{}\".format(j,k,w))\n",
    "        elem_j = partial_xj(x[j],j,n)\n",
    "        elem_k = partial_xk(x[k],n)\n",
    "        elem_w = partial_xw(x[w],n)\n",
    "        Jx[i,j] = elem_j\n",
    "        Jx[i,k] = elem_k\n",
    "        Jx[i,w] = elem_w\n",
    "        \n",
    "    return Jx"
   ]
  },
  {
   "cell_type": "code",
   "execution_count": 56,
   "metadata": {},
   "outputs": [
    {
     "name": "stdout",
     "output_type": "stream",
     "text": [
      "j:0,k:1,w:2\n",
      "j:1,k:2,w:3\n",
      "j:2,k:3,w:4\n",
      "j:3,k:4,w:5\n",
      "j:4,k:5,w:6\n",
      "j:5,k:6,w:0\n",
      "j:6,k:0,w:1\n",
      "j:0,k:1,w:2\n"
     ]
    },
    {
     "data": {
      "text/plain": [
       "array([[ 2.80490328,  1.9634323 ,  1.9634323 ,  0.        ,  0.        ,\n",
       "         0.        ,  0.        ],\n",
       "       [ 0.        ,  4.18667657,  1.9634323 ,  1.9634323 ,  0.        ,\n",
       "         0.        ,  0.        ],\n",
       "       [ 0.        ,  0.        ,  5.56844986,  1.9634323 ,  1.9634323 ,\n",
       "         0.        ,  0.        ],\n",
       "       [ 0.        ,  0.        ,  0.        ,  6.95022315,  1.9634323 ,\n",
       "         1.9634323 ,  0.        ],\n",
       "       [ 0.        ,  0.        ,  0.        ,  0.        ,  8.33199645,\n",
       "         1.9634323 ,  1.9634323 ],\n",
       "       [ 1.9634323 ,  0.        ,  0.        ,  0.        ,  0.        ,\n",
       "         9.71376974,  1.9634323 ],\n",
       "       [ 1.9634323 ,  1.9634323 ,  0.        ,  0.        ,  0.        ,\n",
       "         0.        , 11.09554303],\n",
       "       [ 2.80490328,  1.9634323 ,  1.9634323 ,  0.        ,  0.        ,\n",
       "         0.        ,  0.        ]])"
      ]
     },
     "execution_count": 56,
     "metadata": {},
     "output_type": "execute_result"
    }
   ],
   "source": [
    "xs = np.zeros((7,1))\n",
    "xs[0] = 1\n",
    "xs[1] = 1\n",
    "xs[2] = 1\n",
    "xs[3] = 1\n",
    "xs[4] = 1\n",
    "xs[5] = 1\n",
    "xs[6] = 1\n",
    "evaluate_jacobian(8,7,xs)"
   ]
  },
  {
   "cell_type": "markdown",
   "metadata": {},
   "source": [
    "2. Implemente el algoritmo de Gauss-Newton, con parámetro $\\lambda = 0.0001$, que resuelva el sistema de ecuaciones lineales mediante PALU. Puede utilizar la implementación de `scipy` de PALU. Para esto utilice la firma entregada. Mida y grafique los tiempos de cómputo para las siguientes combinaciones de dimensiones:\n",
    "    * 5000 ecuaciones y 3000 incógnitas.\n",
    "    * 10000 ecuaciones y 6000 incógnitas.\n",
    "    * 15000 ecuaciones y 9000 incógnitas.\n",
    "   \n",
    "   Si obtiene errores de memoria u obtiene tiempos de ejecución sobre los 5 minutos, comente al respecto. Puede variar el número de iteraciones en caso de altos tiempos de cómputo."
   ]
  },
  {
   "cell_type": "code",
   "execution_count": 16,
   "metadata": {},
   "outputs": [],
   "source": [
    "'''\n",
    "Input: \n",
    "m - Number of equations of F\n",
    "n - Number of variables\n",
    "x0 - Initial guess\n",
    "tol - Tolerance of root mean square error in order to return gauss-newton solution\n",
    "max_it - Max. number of iterations\n",
    "Output:\n",
    "xk - (array) Solution vector of gauss-newton. Its dimension is n\n",
    "'''\n",
    "def gauss_newton_palu(m, n, x0, lamb=0.0001, tol=1e-5, max_it=10):\n",
    "    xk = np.zeros(n)\n",
    "    # Your code goes here!\n",
    "    return xk"
   ]
  },
  {
   "cell_type": "markdown",
   "metadata": {},
   "source": [
    "3. Realice el mismo experimento, pero utilizando GMRes. Considere la misma variación de dimensiones que en la pregunta anterior. Utilice la firma entregada. De igual manera, si tiene errores de memoria o tiempos de ejecución por sobre los 5 minutos, comente al respecto."
   ]
  },
  {
   "cell_type": "code",
   "execution_count": 17,
   "metadata": {},
   "outputs": [],
   "source": [
    "'''\n",
    "Input: \n",
    "m - Number of equations of F\n",
    "n - Number of variables\n",
    "x0 - Initial guess\n",
    "tol - Tolerance of root mean square error in order to return gauss-newton solution\n",
    "max_it - Max. number of iterations\n",
    "Output:\n",
    "xk - (array) Solution vector of gauss-newton. Its dimension is n\n",
    "'''\n",
    "def gauss_newton_gmres(m, n, x0, lamb=0.0001, tol=1e-5, max_it=10):\n",
    "    xk = np.zeros(n)\n",
    "    # Your code goes here!\n",
    "    return xk"
   ]
  },
  {
   "cell_type": "markdown",
   "metadata": {},
   "source": [
    "4. Comente a partir de los resultados obtenidos."
   ]
  },
  {
   "cell_type": "markdown",
   "metadata": {},
   "source": [
    "## Sección 2 (35 puntos)\n",
    "\n",
    "La matriz Jacobiana asociada al sistema de ecuaciones entregado posee la propiedad de que es *sparse*, por lo tanto es posible ahorrar almacenamiento y cómputo utilizando una estructura de datos adecuada. \n",
    "\n",
    "1. Modifique su implementación de cálculo de la matriz Jacobiana para que utilice una estructura de datos para matrices *sparse* [1].\n",
    "\n",
    "2. Considere 35000 ecuaciones y 25000 incógnitas. Comente y justifique la factibilidad o infactibilidad de resolver ese problema mediante PALU.\n",
    "\n",
    "3. Considere 35000 ecuaciones y 25000 incógnitas. Resuelva el problema mediante Gauss-Newton, resolviendo el sistema de ecuaciones lineales mediante GMRes, considerando matrices Jacobianas del tipo *sparse*. Considere un parámetro $\\lambda = 0.0001$. Puede utilizar la implementación de GMRes de Scipy."
   ]
  },
  {
   "cell_type": "markdown",
   "metadata": {},
   "source": [
    "## Sección 3 (35 puntos)\n",
    "\n",
    "1. Modifique el *widget* adjunto para que grafique el residuo $\\lVert \\mathbf{F}(\\mathbf{x}_k) \\rVert_2$ obtenido en cada iteración de su implementación de Gauss-Newton, y ejecútelo para distintos valores de $\\lambda$, $m$ y $n$ . Comente sobre el efecto del parámetro de amortiguamiento al resolver el sistema de ecuaciones no lineales sobredeterminado."
   ]
  },
  {
   "cell_type": "code",
   "execution_count": 18,
   "metadata": {},
   "outputs": [
    {
     "data": {
      "application/vnd.jupyter.widget-view+json": {
       "model_id": "90ff78523d0d49ae86eb40afe69dfb73",
       "version_major": 2,
       "version_minor": 0
      },
      "text/html": [
       "<p>Failed to display Jupyter Widget of type <code>interactive</code>.</p>\n",
       "<p>\n",
       "  If you're reading this message in the Jupyter Notebook or JupyterLab Notebook, it may mean\n",
       "  that the widgets JavaScript is still loading. If this message persists, it\n",
       "  likely means that the widgets JavaScript library is either not installed or\n",
       "  not enabled. See the <a href=\"https://ipywidgets.readthedocs.io/en/stable/user_install.html\">Jupyter\n",
       "  Widgets Documentation</a> for setup instructions.\n",
       "</p>\n",
       "<p>\n",
       "  If you're reading this message in another frontend (for example, a static\n",
       "  rendering on GitHub or <a href=\"https://nbviewer.jupyter.org/\">NBViewer</a>),\n",
       "  it may mean that your frontend doesn't currently support widgets.\n",
       "</p>\n"
      ],
      "text/plain": [
       "interactive(children=(FloatSlider(value=5.0, description='lamb', max=10.0, min=1e-05, step=1e-05), FloatText(value=35000.0, description='Num. Equations: '), FloatText(value=25000.0, description='Num. Unknowns : '), FloatText(value=1e-05, description='Tolerance: '), Output()), _dom_classes=('widget-interact',))"
      ]
     },
     "metadata": {},
     "output_type": "display_data"
    }
   ],
   "source": [
    "def plot_nonlin_residual(lamb, m, n, tol):\n",
    "    ## Solve the problem here using the given parameters\n",
    "    res = np.exp(-np.linspace(0,2,100)**2)\n",
    "    plt.figure(figsize=(14, 7))\n",
    "    plt.semilogy(res, '.')\n",
    "    plt.grid(True)\n",
    "    plt.show()\n",
    "\n",
    "interact(\n",
    "    plot_nonlin_residual, \n",
    "    lamb=(0.00001, 10, 0.00001),\n",
    "    m=widgets.FloatText(description=\"Num. Equations: \", value=35000),\n",
    "    n=widgets.FloatText(description=\"Num. Unknowns : \", value=25000),\n",
    "    tol=widgets.FloatText(description=\"Tolerance: \", value=1e-5)\n",
    ");"
   ]
  },
  {
   "cell_type": "markdown",
   "metadata": {},
   "source": [
    "2. Modifique el siguiente *widget* para que grafique los residuos obtenidos al resolver los distintos sistemas de ecuaciones lineales con GMRes, en su implementación de Gauss-Newton. Ejecute el algoritmo para distintos valores de $\\lambda$ y dimensiones, y comente al respecto."
   ]
  },
  {
   "cell_type": "code",
   "execution_count": 19,
   "metadata": {},
   "outputs": [
    {
     "data": {
      "application/vnd.jupyter.widget-view+json": {
       "model_id": "4409ad8822584606aa1284c0754db30f",
       "version_major": 2,
       "version_minor": 0
      },
      "text/html": [
       "<p>Failed to display Jupyter Widget of type <code>interactive</code>.</p>\n",
       "<p>\n",
       "  If you're reading this message in the Jupyter Notebook or JupyterLab Notebook, it may mean\n",
       "  that the widgets JavaScript is still loading. If this message persists, it\n",
       "  likely means that the widgets JavaScript library is either not installed or\n",
       "  not enabled. See the <a href=\"https://ipywidgets.readthedocs.io/en/stable/user_install.html\">Jupyter\n",
       "  Widgets Documentation</a> for setup instructions.\n",
       "</p>\n",
       "<p>\n",
       "  If you're reading this message in another frontend (for example, a static\n",
       "  rendering on GitHub or <a href=\"https://nbviewer.jupyter.org/\">NBViewer</a>),\n",
       "  it may mean that your frontend doesn't currently support widgets.\n",
       "</p>\n"
      ],
      "text/plain": [
       "interactive(children=(FloatSlider(value=5.0, description='lamb', max=10.0, min=1e-05, step=1e-05), FloatText(value=35000.0, description='Num. Equations: '), FloatText(value=25000.0, description='Num. Unknowns : '), FloatText(value=1e-05, description='Tolerance: '), Output()), _dom_classes=('widget-interact',))"
      ]
     },
     "metadata": {},
     "output_type": "display_data"
    }
   ],
   "source": [
    "def plot_linear_residual(lamb, m, n, tol):\n",
    "    ## Solve the problem here using the given parameters\n",
    "    n_it = 30\n",
    "    plt.figure(figsize=(14, 7))\n",
    "    for i in range(n_it):\n",
    "        res = np.exp(-np.linspace(0,2,100)**2) + 1e-1*np.random.rand(100)\n",
    "        plt.semilogy(res, '.')\n",
    "    plt.grid(True)\n",
    "    plt.show()\n",
    "\n",
    "interact(\n",
    "    plot_linear_residual, \n",
    "    lamb=(0.00001, 10, 0.00001),\n",
    "    m=widgets.FloatText(description=\"Num. Equations: \", value=35000),\n",
    "    n=widgets.FloatText(description=\"Num. Unknowns : \", value=25000),\n",
    "    tol=widgets.FloatText(description=\"Tolerance: \", value=1e-5)\n",
    ");"
   ]
  },
  {
   "cell_type": "markdown",
   "metadata": {},
   "source": [
    "---\n",
    "# Instrucciones:\n",
    "\n",
    "* **Importante, Asegúrese de responder TODO lo que la pregunta pide.**\n",
    "* La estructura de la tarea es la siguiente:\n",
    "     1. Título, nombre de estudiante, email y rol.\n",
    "     2. Responder cada pregunta de forma personal.\n",
    "     5. Referencias. Es muy importante incluir todas las fuentes usadas, de otra forma se considera que lo no se ha citado adecuadamente es su trabajo.\n",
    "* La tarea debe ser realizada en `Jupyter Notebook` (`Python3`) entregado.\n",
    "* Recuerde responder la encuesta en el plazo establecido\n",
    "* Se evaluará la correcta utilización de librerias `NumPy`, `SciPy`, `Matplotlib` y `ipywidgets`, entre otras, así como la **correcta implementación de algoritmos vectorizados**.\n",
    "* **MUY IMPORTANTE** El archivo de entrega debe denominarse TareaN-rol.tar.gz y _notebook_ debe tener como nombre TareaN-rol.ipynb, donde $N$ es el número de la tarea y debe contener un directorio con todos los archivos necesarios para ejecutar el notebook, junto con un archivo README indicando explícitamente las librerías o módulos utilizados, nombre y rol del estudiante. Por cada error en este ambito implicará un descuento de 30 puntos.\n",
    "* El descuento por día de atraso será de $30$ puntos, con un máximo de 1 día de atraso. No se recibirán entregas después de este día.\n",
    "* Debe citar toda fuente de código externo. \n",
    "* El trabajo es personal, no se permite compartir código ni utilizar código de otros, aunque sí se sugiere discutir aspectos generales con sus compañeros.\n",
    "* En caso de sospecha de no cumplimiento de estas instrucciones, se solicitará al involucrado o la involucrada a aclarar la situación. Dependiendo de la justificación se decidirá su calificación, la cual podrá o no ser penalizada.\n",
    "* El no seguir estas instrucciones, implica descuentos en su nota obtenida."
   ]
  },
  {
   "cell_type": "markdown",
   "metadata": {},
   "source": [
    "# Referencias\n",
    "[1] https://docs.scipy.org/doc/scipy/reference/generated/scipy.sparse.csr_matrix.html#scipy.sparse.csr_matrix"
   ]
  },
  {
   "cell_type": "code",
   "execution_count": null,
   "metadata": {},
   "outputs": [],
   "source": []
  }
 ],
 "metadata": {
  "@webio": {
   "lastCommId": "c3bc6405bd5a44ea8b30eef2f7000858",
   "lastKernelId": "b9e96769-da91-4380-bba7-2f8d91f10369"
  },
  "kernelspec": {
   "display_name": "Python 3",
   "language": "python",
   "name": "python3"
  },
  "language_info": {
   "codemirror_mode": {
    "name": "ipython",
    "version": 3
   },
   "file_extension": ".py",
   "mimetype": "text/x-python",
   "name": "python",
   "nbconvert_exporter": "python",
   "pygments_lexer": "ipython3",
   "version": "3.7.4"
  }
 },
 "nbformat": 4,
 "nbformat_minor": 2
}
