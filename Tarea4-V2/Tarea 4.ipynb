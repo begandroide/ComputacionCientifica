{
 "cells": [
  {
   "cell_type": "markdown",
   "metadata": {},
   "source": [
    "<img src=\"escudo_utfsm.gif\" style=\"float:right;height:100px\">\n",
    "<img src=\"IsotipoDIisocolor.png\" style=\"float:left;height:100px\">\n",
    "<center>\n",
    "    <h1> INF/ILI 285 Computación Científica I</h1>\n",
    "    <h1> Tarea N°4: Extendiendo el Método de Newton </h1>\n",
    "    <h3> [S]cientific [C]omputing [T]eam 2019</h3>\n",
    "</center>\n",
    "<p>\n",
    "<center>Septiembre 2019 - v1.0</center>\n",
    "</p>\n",
    "\n",
    "---"
   ]
  },
  {
   "cell_type": "code",
   "execution_count": 2,
   "metadata": {},
   "outputs": [],
   "source": [
    "from __future__ import print_function\n",
    "import numpy as np\n",
    "import matplotlib.pyplot as plt\n",
    "from ipywidgets import interact, interactive, fixed, interact_manual\n",
    "import ipywidgets as widgets\n",
    "from  scipy.linalg import lu\n",
    "from  scipy.linalg import solve_triangular\n",
    "from scipy.sparse import csr_matrix, identity\n",
    "from scipy.linalg import solve_triangular as st"
   ]
  },
  {
   "cell_type": "markdown",
   "metadata": {},
   "source": [
    "## Contexto\n",
    "\n",
    "Un sistema de ecuaciones no lineales es un sistema en el cual la salida del problema no es linealmente proporcional a las entradas.\n",
    "Este problema se puede representar vectorialmente de la siguiente manera:\n",
    "\n",
    "\\begin{equation*}\n",
    "    \\mathbf{F}(\\mathbf{x})=\\mathbf{y},\n",
    "\\end{equation*}\n",
    "\n",
    "donde $\\mathbf{F}:\\mathbb{R}^n\\rightarrow \\mathbb{R}^n$ es una función no lineal, $\\mathbf{x} \\in \\mathbb{R}^{n}$ e $\\mathbf{y} \\in \\mathbb{R}^{n}$. Como se vio en clases, podemos solucionar este problema usando el método de *Newton multivariado*:\n",
    "\n",
    "\\begin{equation*}\n",
    "    \\mathbf{x_{k+1}}=\\mathbf{x_k}-J_{\\mathbf{G}}^{-1}(\\mathbf{x_k})\\mathbf{G}(\\mathbf{x_k}),\n",
    "\\end{equation*}\n",
    "\n",
    "donde $\\mathbf{G}({\\mathbf{x}})=\\mathbf{F}(\\mathbf{x})-\\mathbf{y}=\\mathbf{0}$, o sea, se está realizando una busqueda de raíces, y $J_{\\mathbf{G}}(\\mathbf{x_k}) \\in \\mathbb{R}^{n\\times n}$ es la matriz jacobiana de $\\mathbf{G}$. Para evitar calcular inversas, la iteración puede ser representada de la siguiente manera:\n",
    "\\begin{align}\n",
    "    \\mathbf{x_{k+1}} &= \\mathbf{x_k}-\\delta\\mathbf{x_k}, \\\\\n",
    "    J_{\\mathbf{G}}(\\mathbf{x_k})\\delta\\mathbf{ x_k} &= \\mathbf{G}(\\mathbf{x_k}).\n",
    "\\end{align}"
   ]
  },
  {
   "cell_type": "markdown",
   "metadata": {},
   "source": [
    "### Sistema no lineal sobredeterminado\n",
    "\n",
    "En la asignatura se aprendió a resolver sistemas no lineales con Newton multivariado cuando $\\mathbf{F}$ va de $\\mathbb{R}^n$ a $\\mathbb{R}^n$. Ahora veremos como resolver el caso en el que $\\mathbf{F}$ va de $\\mathbb{R}^n$ a $\\mathbb{R}^m$, con $m\\geq n$.\n",
    "\n",
    "Al desarrollar un problema de busqueda de raíces multivariado usando Newton multivariado, nos toparemos con que la matriz jacobiana $J_{\\mathbf{G}}(\\mathbf{x_k})$ tiene dimensiones $m\\times n$, y por lo tanto debemos resolver un sistema sobredeterminado. Se introduce entonces el método de *Gauss-Newton*, el cual es similar el Método de Newton multivariado pero en vez de resolver el sistema de ecuaciones lineales sobredeterminado\n",
    "\n",
    "$$\n",
    "    J_{\\mathbf{G}}(\\mathbf{x}_k)\\,\\delta\\mathbf{x}_k = \\mathbf{G}(\\mathbf{x}_k),\n",
    "$$\n",
    "\n",
    "resuelve el siguiente problema de mínimos cuadrados\n",
    "\n",
    "$$\n",
    "    \\min_{\\delta\\mathbf{x}_k \\in \\mathbb{R}^n} \\left\\lVert J_{\\mathbf{G}}(\\mathbf{x}_k)\\,\\delta\\mathbf{x}_k - \\mathbf{G}(\\mathbf{x}_k) \\right\\rVert_2^2.\n",
    "$$\n",
    "\n",
    "Para resolver esto, usaremos las ecuaciones normales:\n",
    "\\begin{equation*}\n",
    "    J_{\\mathbf{G}}^T(\\mathbf{x_k})J_{\\mathbf{G}}(\\mathbf{x_k})\\delta\\mathbf{ x_k}=J_{\\mathbf{G}}^T(\\mathbf{x_k})\\mathbf{G}(\\mathbf{x_k}).\n",
    "\\end{equation*}\n",
    "\n",
    "Para evitar tener matrices singulares, agregaremos una pequeña perturbación a la diagonal de la matriz $J_{\\mathbf{G}}(\\mathbf{x_k})^T\\,J_{\\mathbf{G}}(\\mathbf{x_k})$ igual a un factor real no negativo $\\lambda$ (denominado *factor de amortiguamiento*) por la matriz identidad. Esta modificación, introducida por Kenneth Levenberg, suele ser recalculada en cada iteración. Finalmente, nuestro algoritmo será:\n",
    "\\begin{align}\n",
    "    \\mathbf{x_{k+1}} &= \\mathbf{x_k}-\\delta\\mathbf{x_k}, \\\\\n",
    "    \\left(J_{\\mathbf{G}}^T(\\mathbf{x_k})J_{\\mathbf{G}}(\\mathbf{x_k})+\\lambda I\\right)\\delta\\mathbf{ x_k} &= J_{\\mathbf{G}}^T(\\mathbf{x_k})\\mathbf{G}(\\mathbf{x_k}).\n",
    "\\end{align}"
   ]
  },
  {
   "cell_type": "markdown",
   "metadata": {},
   "source": [
    "## Preguntas\n",
    "---"
   ]
  },
  {
   "cell_type": "markdown",
   "metadata": {},
   "source": [
    "Sea $m$ el número de ecuaciones y $n$ el número de incógnitas, llamaremos $F$ el sistema de funciones no lineales tal que su $i$-ésima ecuación se define como:\n",
    "\n",
    "$$\n",
    "    f_i(\\mathbf{x}) = n + (j+1)\\left(1 - \\cos x_j + \\sin x_j  \\right) - \\sin x_j - \\frac{n}{3}\\left( \\cos x_j + \\cos x_k + \\cos x_w \\right),\n",
    "$$\n",
    "\n",
    "donde $j = i\\% n$, $k = (i+1) \\% n$ y $w = (i+2) \\% n$, y $\\%$ es la operación _módulo_, la cual calcula el resto de la división entre un número y otro. Considere que el RHS del sistema es el vector nulo, esto es $F(\\mathbf{x})=\\mathbf{0}$."
   ]
  },
  {
   "cell_type": "markdown",
   "metadata": {},
   "source": [
    "## Sección 1 (20 puntos)\n",
    "\n",
    "1. Calcule y muestre la estructura de la matriz Jacobiana del sistema entregado, considerando $m$ ecuaciones y $n$ variables. Implemente la rutina `evaluate_jacobian`, la cual debe retornar la matriz evaluada en el vector parámetro $\\mathbf{x}$."
   ]
  },
  {
   "cell_type": "markdown",
   "metadata": {},
   "source": [
    "## Respuesta\n",
    "\n",
    "Para responder esta pregunta primero vamos a expandir la función $f_i(\\textbf{x})$:\n",
    "\n",
    "$$\n",
    "f_i(\\textbf{x}) = n + j - j cos(x_j) + j sin(x_j) + 1 - cos(x_j) + sin(x_j) - sin(x_j) - \\dfrac{n}{3} cos(x_j) - \\dfrac{n}{3}( cos(x_k) + cos(x_w) ) \n",
    "$$\n",
    "\n",
    "$$\n",
    "f_i(\\textbf{x}) = n + j - j cos(x_j) + j sin(x_j) + 1 - cos(x_j) - \\dfrac{n}{3} cos(x_j) - \\dfrac{n}{3}( cos(x_k) + cos(x_w) ) \n",
    "$$\n",
    "\n",
    "Luego, para calcular el Jacobiano de la función $f_i(\\textbf{x})$  debemos tener en cuenta la dimensión del vector $\\textbf{x}$, digamos que la dimensión de éste es $nx1$, por lo que hay n variables en el vector. Lo anterior nos sirve para crear la matriz jacobiana, ya que ésta es una matriz cuadrada de $nxn$ en donde cada fila ( $f_i(\\textbf{x}_k)$ ) debe ser derivado parcialmente con respecto a cada una de las variables del vector.\n",
    "\n",
    "Por otro lado, notar que $f_i(\\textbf{x})$ en cada fila tendrá a lo más 3 componentes no nulos, ya que la fórmula de la función toma 3 variables por cada fila de la matriz; por lo que solo calcularemos las derivadas parciales en donde sabemos que las variables estarán, para lo anterior definimos tres funciones para derivar:\n",
    "\n",
    "$$\n",
    "\\begin{align}\n",
    "\\dfrac{\\partial f_i(x_j)}{\\partial x_j} &= j sin(x_j) + j cos(x_j) +\\frac{n}{3} sin(x_j), \\text{ con } j = i\\%n\\\\\n",
    "\\dfrac{\\partial f_i(x_k)}{\\partial x_k} &= \\frac{n}{3} sin(x_k), \\text{ con } k = i+1\\%n\\\\\n",
    "\\dfrac{\\partial f_i(x_w)}{\\partial x_w} &= \\frac{n}{3} sin(x_w), \\text{ con } w = i+2\\%n\\\\\n",
    "\\end{align}\n",
    "$$\n",
    "\n",
    "En donde, resumidamente, se seguirá el siguiente patrón al calcular la Jacobiana:\n",
    "$\n",
    "(j,k,w) = \\{(0,1,2),(1,2,3),(3,4,5),...,(0,n-1,n),(0,1,n)\\}\n",
    "$, lo que genera una matriz _sparse_ con una estructura como la siguiente; notar que cada elemento no nulo en las casillas se refiere a la derivada parcial de la función $f$ en la i-ésima fila con respecto a la variable $x_i$:\n",
    "\n",
    "$$\n",
    "J_G(\\textbf{x}_k) = \n",
    "\\begin{pmatrix}\n",
    "a & b & c & 0 & 0 & 0 & 0\\\\\\ \n",
    "0 & d & e & f & 0 & 0 & 0\\\\\\\n",
    "0 & 0 & g & h & i & 0 & 0\\\\\\ \n",
    "0 & 0 & 0 & j & k & l & 0\\\\\\\n",
    "0 & 0 & 0 & 0 & m & n & ñ\\\\\\ \n",
    "o & 0 & 0 & 0 & 0 & p & q\\\\\\\n",
    "r & s & 0 & 0 & 0 & 0 & t\n",
    "\\end{pmatrix}$$"
   ]
  },
  {
   "cell_type": "code",
   "execution_count": 3,
   "metadata": {},
   "outputs": [],
   "source": [
    "partial_xj = lambda x_j,j,n: (j*np.sin(x_j) + j*np.cos(x_j) + np.sin(x_j) + (n/3)*np.sin(x_j) )\n",
    "partial_xk = lambda x_k,n: (n/3)*np.sin(x_k)\n",
    "partial_xw = lambda x_w,n: (n/3)*np.sin(x_w)\n",
    "'''\n",
    "Input: \n",
    "m - Number of equations of F\n",
    "n - Number of variables\n",
    "x - (array) Vector of dimension n\n",
    "Output:\n",
    "Jx - (double-array) Vector x evaluated in jacobian matrix of F. Its dimension is mxn \n",
    "'''\n",
    "def evaluate_jacobian(m,n,x):\n",
    "    Jx = np.zeros((m,n))\n",
    "    if(n<=2): return Jx\n",
    "    \n",
    "    for i in range(0,m):\n",
    "        j = i%n\n",
    "        k = (i+1)%n\n",
    "        w = (i+2)%n\n",
    "#         print(\"j:{},k:{},w:{}\".format(j,k,w))\n",
    "        elem_j = partial_xj(x[j],j,n)\n",
    "        elem_k = partial_xk(x[k],n)\n",
    "        elem_w = partial_xw(x[w],n)\n",
    "        Jx[i,j] = elem_j\n",
    "        Jx[i,k] = elem_k\n",
    "        Jx[i,w] = elem_w\n",
    "        \n",
    "    return Jx"
   ]
  },
  {
   "cell_type": "markdown",
   "metadata": {},
   "source": [
    "2. Implemente el algoritmo de Gauss-Newton, con parámetro $\\lambda = 0.0001$, que resuelva el sistema de ecuaciones lineales mediante PALU. Puede utilizar la implementación de `scipy` de PALU. Para esto utilice la firma entregada. Mida y grafique los tiempos de cómputo para las siguientes combinaciones de dimensiones:\n",
    "    * 5000 ecuaciones y 3000 incógnitas.\n",
    "    * 10000 ecuaciones y 6000 incógnitas.\n",
    "    * 15000 ecuaciones y 9000 incógnitas.\n",
    "   \n",
    "   Si obtiene errores de memoria u obtiene tiempos de ejecución sobre los 5 minutos, comente al respecto. Puede variar el número de iteraciones en caso de altos tiempos de cómputo."
   ]
  },
  {
   "cell_type": "markdown",
   "metadata": {},
   "source": [
    "### Implementación"
   ]
  },
  {
   "cell_type": "code",
   "execution_count": 4,
   "metadata": {},
   "outputs": [],
   "source": [
    "# F_i, la fila i-esima de el vector F(x)\n",
    "F = lambda n,j,xj,xk,xw: n+(j+1)*(1-np.cos(xj)+np.sin(xj)) - np.sin(xj) - (n/3.0)*(np.cos(xj)+np.cos(xk)+np.cos(xw))"
   ]
  },
  {
   "cell_type": "code",
   "execution_count": 17,
   "metadata": {},
   "outputs": [],
   "source": [
    "'''\n",
    "Input:\n",
    "m - Number of equations of F \n",
    "n - Number of variables\n",
    "xs - data to evaluate in vector G\n",
    "Output:\n",
    "G(xs)\n",
    "'''\n",
    "def make_G(m,n,xs):\n",
    "    g = np.zeros(m)\n",
    "    \n",
    "    for i in range(0,m-1):\n",
    "        j = i%n\n",
    "        k = (i+1)%n\n",
    "        w = (i+2)%n\n",
    "        g[i] = F(n,j,xs[j],xs[k],xs[w])\n",
    "#         print(g[i])\n",
    "    return g\n",
    "\n",
    "'''\n",
    "Input:\n",
    "A - Matriz of shape nxn\n",
    "b - Vector of shape nx1\n",
    "Output:\n",
    "(x) solution for Ax=b with palu method\n",
    "'''\n",
    "def solve_palu(A, b):\n",
    "    P,L,U = lu(A)\n",
    "#     print(\"b\")\n",
    "#     print(b)\n",
    "    b = np.dot(P.T,b)\n",
    "    c = st(L,b,lower=True)\n",
    "    x = st(U, c)\n",
    "    return x"
   ]
  },
  {
   "cell_type": "code",
   "execution_count": 6,
   "metadata": {},
   "outputs": [],
   "source": [
    "'''\n",
    "Input: \n",
    "m - Number of equations of F\n",
    "n - Number of variables\n",
    "x0 - Initial guess\n",
    "tol - Tolerance of root mean square error in order to return gauss-newton solution\n",
    "max_it - Max. number of iterations\n",
    "Output:\n",
    "xk - (array) Solution vector of gauss-newton. Its dimension is n\n",
    "'''\n",
    "def gauss_newton_palu(m, n, x0, lamb=0.0001, tol=1e-5, max_it=10):\n",
    "    xk = x0\n",
    "    lambda_xk = np.zeros(n) #incognita\n",
    "    \n",
    "    for i in range(max_it):\n",
    "        #calculate G(xk)\n",
    "        g = make_G(m,n,xk)\n",
    "#         print(\"iteracion: {}\".format(i))\n",
    "#         print(np.linalg.norm(g)/n)\n",
    "        if( (np.linalg.norm(g)/n) <= tol):\n",
    "            break\n",
    "        \n",
    "        Jg = evaluate_jacobian(m,n,xk)\n",
    "        #usar palu para resolver\n",
    "#         print(\"JG.shape = {}\".format(Jg.shape))\n",
    "        left_eq = ((Jg.T).dot(Jg) + (lamb*np.identity(n)))\n",
    "        right_eq = (Jg.T).dot(g)\n",
    "        lambda_xk = solve_palu(left_eq,right_eq)\n",
    "        #calculate lambda_xk from Jf-1Jf...\n",
    "        xk_plus1 = xk - lambda_xk\n",
    "        xk = xk_plus1\n",
    "    return xk"
   ]
  },
  {
   "cell_type": "code",
   "execution_count": 43,
   "metadata": {},
   "outputs": [],
   "source": [
    "import timeit\n",
    "\n",
    "def plot_times_solving_palu(max_iter = 10):\n",
    "    xs_plot = np.arange(3) + np.ones(3)\n",
    "    \n",
    "    ys = np.zeros(3)\n",
    "    \n",
    "    for i in range(1,4):\n",
    "        xs = np.ones(3000*i)\n",
    "        start = timeit.default_timer()\n",
    "        gauss_newton_palu(i*5000,i*3000,xs,max_it=max_iter)\n",
    "        stop = timeit.default_timer()\n",
    "        ys[i-1]= stop - start\n",
    "        \n",
    "    plt.figure(figsize=(14, 7))\n",
    "    plt.xticks([1,2,3], [\"(5000x3000)\", \"10000x6000\", \"15000x9000\"])\n",
    "\n",
    "    plt.bar(xs_plot, ys, color=(0.3, 0.4, 0.6))\n",
    "    plt.title(\"Sistema indeterminado con PALU, max_iter = {}\".format(max_iter),size=16)\n",
    "#     plt.plot( xs_plot, ys , \".b\")\n",
    "    plt.ylabel(\"Tiempo[segundos]\")\n",
    "    plt.xlabel(\"Matriz\")\n",
    "\n",
    "    # Text on the top of each barplot\n",
    "    for i in range(len(xs_plot)):\n",
    "        plt.text(x = xs_plot[i] - 0.2 , y = ys[i]+0.4, s = \"t = {0:.2f}[seg]\".format(ys[i]), size = 12)\n",
    "\n",
    "    # Adjust the margins\n",
    "    plt.subplots_adjust(bottom= 0.2, top = 0.98)\n",
    "\n",
    "\n",
    "    plt.grid(True)\n",
    "    plt.show()"
   ]
  },
  {
   "cell_type": "code",
   "execution_count": 52,
   "metadata": {},
   "outputs": [
    {
     "data": {
      "image/png": "[encoded data removed]",
      "text/plain": [
       "<Figure size 1008x504 with 1 Axes>"
      ]
     },
     "metadata": {
      "needs_background": "light"
     },
     "output_type": "display_data"
    }
   ],
   "source": [
    "plot_times_solving_palu(4)"
   ]
  },
  {
   "cell_type": "markdown",
   "metadata": {},
   "source": [
    "3. Realice el mismo experimento, pero utilizando GMRes. Considere la misma variación de dimensiones que en la pregunta anterior. Utilice la firma entregada. De igual manera, si tiene errores de memoria o tiempos de ejecución por sobre los 5 minutos, comente al respecto."
   ]
  },
  {
   "cell_type": "code",
   "execution_count": 48,
   "metadata": {},
   "outputs": [],
   "source": [
    "from scipy.sparse.linalg import gmres\n",
    "'''\n",
    "Input: \n",
    "m - Number of equations of F\n",
    "n - Number of variables\n",
    "x0 - Initial guess\n",
    "tol - Tolerance of root mean square error in order to return gauss-newton solution\n",
    "max_it - Max. number of iterations\n",
    "Output:\n",
    "xk - (array) Solution vector of gauss-newton. Its dimension is n\n",
    "'''\n",
    "def gauss_newton_gmres(m, n, x0, lamb=0.0001, tol=1e-5, max_it=10):\n",
    "    xk = x0\n",
    "    \n",
    "    lambda_xk = np.zeros(n) #incognita\n",
    "    \n",
    "    for i in range(max_it):\n",
    "        #calculate G(xk)\n",
    "        g = make_G(m,n,xk)\n",
    "#         print(\"iteracion: {}\".format(i))\n",
    "#         print(np.linalg.norm(g)/n)\n",
    "        if( (np.linalg.norm(g)/n) <= tol):\n",
    "            break\n",
    "\n",
    "        Jg = evaluate_jacobian(m,n,xk)\n",
    "        #usar palu para resolver\n",
    "        left_eq = ((Jg.T).dot(Jg) + (lamb*np.eye(n)))\n",
    "#         print(left_eq)\n",
    "        right_eq = (Jg.T).dot(g)\n",
    "#         print(right_eq)\n",
    "        lambda_xk,_ = gmres(left_eq,right_eq)\n",
    "        #calculate lambda_xk from Jf-1Jf...\n",
    "        xk_plus1 = xk - lambda_xk\n",
    "#         if(xk_plus1 - xk <= tol):\n",
    "#             break\n",
    "        xk = xk_plus1\n",
    "    \n",
    "    return xk"
   ]
  },
  {
   "cell_type": "code",
   "execution_count": 49,
   "metadata": {},
   "outputs": [],
   "source": [
    "\n",
    "def plot_times_solving_gmres(max_iter = 10):\n",
    "    xs_plot = np.arange(3) + np.ones(3)\n",
    "    \n",
    "    ys = np.zeros(3)\n",
    "    \n",
    "    for i in range(1,4):\n",
    "        xs = np.ones(3000*i)\n",
    "        start = timeit.default_timer()\n",
    "        gauss_newton_gmres(i*5000,i*3000,xs,max_it=max_iter)\n",
    "        stop = timeit.default_timer()\n",
    "        ys[i-1]= stop - start\n",
    "    \n",
    "    plt.figure(figsize=(14, 7))\n",
    "    plt.xticks([1,2,3], [\"(5000x3000)\", \"10000x6000\", \"15000x9000\"])\n",
    "\n",
    "    plt.bar(xs_plot, ys, color=(0.3, 0.4, 0.6))\n",
    "    plt.title(\"Sistema indeterminado con GMRes, max_iter = {}\".format(max_iter), size=16)\n",
    "#     plt.plot( xs_plot, ys , \".b\")\n",
    "    plt.ylabel(\"Tiempo[segundos]\")\n",
    "    plt.xlabel(\"Matriz\")\n",
    "        # Text on the top of each barplot\n",
    "\n",
    "    for i in range(len(xs_plot)):\n",
    "        plt.text(x = xs_plot[i] - 0.2 , y = ys[i]+0.2, s = \"t = {0:.2f}[seg]\".format(ys[i]), size = 12)\n",
    "\n",
    "    # Adjust the margins\n",
    "    plt.subplots_adjust(bottom= 0.2, top = 0.98)\n",
    "\n",
    "    plt.grid(True)\n",
    "    plt.show()"
   ]
  },
  {
   "cell_type": "code",
   "execution_count": 53,
   "metadata": {},
   "outputs": [
    {
     "data": {
      "image/png": "[encoded data removed]",
      "text/plain": [
       "<Figure size 1008x504 with 1 Axes>"
      ]
     },
     "metadata": {
      "needs_background": "light"
     },
     "output_type": "display_data"
    }
   ],
   "source": [
    "plot_times_solving_gmres(4)"
   ]
  },
  {
   "cell_type": "markdown",
   "metadata": {},
   "source": [
    "4. Comente a partir de los resultados obtenidos."
   ]
  },
  {
   "cell_type": "code",
   "execution_count": null,
   "metadata": {},
   "outputs": [],
   "source": [
    "x3"
   ]
  },
  {
   "cell_type": "markdown",
   "metadata": {},
   "source": [
    "## Sección 2 (35 puntos)\n",
    "\n",
    "La matriz Jacobiana asociada al sistema de ecuaciones entregado posee la propiedad de que es *sparse*, por lo tanto es posible ahorrar almacenamiento y cómputo utilizando una estructura de datos adecuada. \n",
    "\n",
    "1. Modifique su implementación de cálculo de la matriz Jacobiana para que utilice una estructura de datos para matrices *sparse* [1].\n",
    "\n",
    "2. Considere 35000 ecuaciones y 25000 incógnitas. Comente y justifique la factibilidad o infactibilidad de resolver ese problema mediante PALU.\n",
    "\n",
    "3. Considere 35000 ecuaciones y 25000 incógnitas. Resuelva el problema mediante Gauss-Newton, resolviendo el sistema de ecuaciones lineales mediante GMRes, considerando matrices Jacobianas del tipo *sparse*. Considere un parámetro $\\lambda = 0.0001$. Puede utilizar la implementación de GMRes de Scipy."
   ]
  },
  {
   "cell_type": "code",
   "execution_count": 54,
   "metadata": {},
   "outputs": [],
   "source": [
    "'''\n",
    "Input: \n",
    "m - Number of equations of F\n",
    "n - Number of variables\n",
    "x - (array) Vector of dimension n\n",
    "Output:\n",
    "Jx - (double-array) Vector x evaluated in jacobian matrix of F. Its dimension is mxn sparse \n",
    "'''\n",
    "def evaluate_jacobian_sparse(m,n,x):\n",
    "    Jx_sparse = csr_matrix((m, n))\n",
    "    if(n<=2): return Jx_sparse\n",
    "    \n",
    "    for i in range(0,m):\n",
    "        j = i%n\n",
    "        k = (i+1)%n\n",
    "        w = (i+2)%n\n",
    "        #print(\"j:{},k:{},w:{}\".format(j,k,w))\n",
    "        elem_j = partial_xj(x[j],j,n)\n",
    "        elem_k = partial_xk(x[k],n)\n",
    "        elem_w = partial_xw(x[w],n)\n",
    "        Jx_sparse[i,j] = elem_j\n",
    "        Jx_sparse[i,k] = elem_k\n",
    "        Jx_sparse[i,w] = elem_w\n",
    "        \n",
    "    return Jx_sparse"
   ]
  },
  {
   "cell_type": "markdown",
   "metadata": {},
   "source": [
    "### Comentario factibilidad de resolver sistema mediante PALU"
   ]
  },
  {
   "cell_type": "markdown",
   "metadata": {},
   "source": [
    "Si utilizamos la tradicional forma de guardar las matrices, entonces PALU necesita de mucho espacio, si lo detallamos notamos lo siguiente:\n",
    "\n",
    "- Matriz P: tamaño $nxn$\n",
    "- Matriz L: tamaño $nxn$\n",
    "- Matriz U: tamaño $nxn$\n",
    "- Matriz A: tamaño $nxn$\n",
    "\n",
    "Por lo que si tenemos una matriz $A$ de $(35000x25000)$, tenemos esta cantidad de elementos en memoria:\n",
    "\n",
    "$$3*(35000x35000) + (35000x25000)$$ \n",
    "\n",
    "Si usamos un sistema operativo en el cual un número o elemento ocupa $8 (bytes)$ entonces tenemos :\n",
    "\n",
    "$$(8*(35000)*(25000) + 8*3*(35000)*(35000)) (bytes)$$\n",
    "\n",
    "Obteniendo un total de: \n",
    "\n",
    "$$ 2,57x10^{19} (bytes) == 2,57x10^{10} (GB) $$\n",
    "\n",
    "Lo anterior es infactible ya que no existe computador con una memoria RAM con esa cantidad de espacio. \n",
    "\n",
    "Por otro lado, analizaremos la cantidad de operaciones elementales al querer solucionar el sistema de ecuaciones mediante la descomposición PA=LU"
   ]
  },
  {
   "cell_type": "code",
   "execution_count": 59,
   "metadata": {},
   "outputs": [],
   "source": [
    "'''\n",
    "Input: \n",
    "m - Number of equations of F\n",
    "n - Number of variables\n",
    "x0 - Initial guess\n",
    "tol - Tolerance of root mean square error in order to return gauss-newton solution\n",
    "max_it - Max. number of iterations\n",
    "Output:\n",
    "xk - (array) Solution vector of gauss-newton. Its dimension is n\n",
    "'''\n",
    "def gauss_newton_gmres_sparse(m, n, x0, lamb=0.0001, tol=1e-5, max_it=10):\n",
    "    xk = x0\n",
    "    \n",
    "    lambda_xk = np.zeros(n) #incognita\n",
    "    \n",
    "    for i in range(max_it):\n",
    "        #calculate G(xk)\n",
    "        g = make_G(m,n,xk)\n",
    "        \n",
    "        if( (np.linalg.norm(g)/n) <= tol):\n",
    "            break\n",
    "\n",
    "        Jg = evaluate_jacobian_sparse(m,n,xk)\n",
    "        \n",
    "        left_eq = ((Jg.T)@(Jg) + (identity(n).dot(lamb)))\n",
    "        \n",
    "        right_eq = (Jg.T)@(g)\n",
    "        \n",
    "        lambda_xk,_ = gmres(left_eq,right_eq)\n",
    "        #calculate lambda_xk from Jf-1Jf...\n",
    "        xk_plus1 = xk - lambda_xk\n",
    "#         if(xk_plus1 - xk <= tol):\n",
    "#             break\n",
    "        xk = xk_plus1\n",
    "    return xk"
   ]
  },
  {
   "cell_type": "code",
   "execution_count": 60,
   "metadata": {},
   "outputs": [
    {
     "name": "stderr",
     "output_type": "stream",
     "text": [
      "/home/bgautier/.local/lib/python3.7/site-packages/ipykernel_launcher.py:21: SparseEfficiencyWarning: Changing the sparsity structure of a csr_matrix is expensive. lil_matrix is more efficient.\n",
      "/home/bgautier/.local/lib/python3.7/site-packages/ipykernel_launcher.py:22: SparseEfficiencyWarning: Changing the sparsity structure of a csr_matrix is expensive. lil_matrix is more efficient.\n",
      "/home/bgautier/.local/lib/python3.7/site-packages/ipykernel_launcher.py:23: SparseEfficiencyWarning: Changing the sparsity structure of a csr_matrix is expensive. lil_matrix is more efficient.\n"
     ]
    },
    {
     "name": "stdout",
     "output_type": "stream",
     "text": [
      "CPU times: user 3min 50s, sys: 1.01 s, total: 3min 51s\n",
      "Wall time: 3min 54s\n"
     ]
    }
   ],
   "source": [
    "x0 = np.ones(25000)\n",
    "%time xk = gauss_newton_gmres_sparse(35000,25000,x0, max_it=2)"
   ]
  },
  {
   "cell_type": "code",
   "execution_count": 61,
   "metadata": {},
   "outputs": [
    {
     "data": {
      "text/plain": [
       "array([0.28104931, 0.22102948, 0.17080232, ..., 0.02897427, 0.01225405,\n",
       "       0.00292047])"
      ]
     },
     "execution_count": 61,
     "metadata": {},
     "output_type": "execute_result"
    }
   ],
   "source": [
    "xk"
   ]
  },
  {
   "cell_type": "markdown",
   "metadata": {},
   "source": [
    "## Sección 3 (35 puntos)\n",
    "\n",
    "1. Modifique el *widget* adjunto para que grafique el residuo $\\lVert \\mathbf{F}(\\mathbf{x}_k) \\rVert_2$ obtenido en cada iteración de su implementación de Gauss-Newton, y ejecútelo para distintos valores de $\\lambda$, $m$ y $n$ . Comente sobre el efecto del parámetro de amortiguamiento al resolver el sistema de ecuaciones no lineales sobredeterminado."
   ]
  },
  {
   "cell_type": "code",
   "execution_count": null,
   "metadata": {},
   "outputs": [],
   "source": []
  },
  {
   "cell_type": "code",
   "execution_count": 62,
   "metadata": {
    "scrolled": false
   },
   "outputs": [
    {
     "data": {
      "application/vnd.jupyter.widget-view+json": {
       "model_id": "f597256637e7422297825cf67e044604",
       "version_major": 2,
       "version_minor": 0
      },
      "text/plain": [
       "interactive(children=(FloatSlider(value=5.0, description='lamb', max=10.0, min=1e-05, step=1e-05), FloatText(v…"
      ]
     },
     "metadata": {},
     "output_type": "display_data"
    }
   ],
   "source": [
    "def plot_nonlin_residual(lamb, m, n, tol):\n",
    "    ## Solve the problem here using the given parameters\n",
    "    m = int(m)\n",
    "    n = int(n)\n",
    "    xs = np.zeros(1)\n",
    "    ys_gmres = np.ones(n)\n",
    "    res_gmres = np.zeros(1)\n",
    "    i = 0\n",
    "    g = make_G(m,n,ys_gmres)\n",
    "    while(np.linalg.norm(g)/n >= tol):\n",
    "        res_gmres = np.append(res_gmres, [np.linalg.norm(g)] )\n",
    "        xs = np.append(xs,[i])\n",
    "        ys_gmres = gauss_newton_gmres_sparse(m,n,ys_gmres,lamb=lamb,max_it=1)\n",
    "        g = make_G(m,n,ys_gmres)\n",
    "        i += 1\n",
    "    plt.figure(figsize=(14, 7))\n",
    "    plt.semilogy(res_gmres, '.')\n",
    "    plt.grid(True)\n",
    "    plt.show()\n",
    "\n",
    "interact(\n",
    "    plot_nonlin_residual, \n",
    "    lamb=(0.00001, 10, 0.00001),\n",
    "    m=widgets.FloatText(description=\"Num. Equations: \", value=350),\n",
    "    n=widgets.FloatText(description=\"Num. Unknowns : \", value=250),\n",
    "    tol=widgets.FloatText(description=\"Tolerance: \", value=1e-5)\n",
    ");"
   ]
  },
  {
   "cell_type": "markdown",
   "metadata": {},
   "source": [
    "2. Modifique el siguiente *widget* para que grafique los residuos obtenidos al resolver los distintos sistemas de ecuaciones lineales con GMRes, en su implementación de Gauss-Newton. Ejecute el algoritmo para distintos valores de $\\lambda$ y dimensiones, y comente al respecto."
   ]
  },
  {
   "cell_type": "code",
   "execution_count": 64,
   "metadata": {},
   "outputs": [
    {
     "data": {
      "application/vnd.jupyter.widget-view+json": {
       "model_id": "e093c4f90f3649319c631cacae6dbcaf",
       "version_major": 2,
       "version_minor": 0
      },
      "text/plain": [
       "interactive(children=(FloatSlider(value=5.0, description='lamb', max=10.0, min=1e-05, step=1e-05), FloatText(v…"
      ]
     },
     "metadata": {},
     "output_type": "display_data"
    }
   ],
   "source": [
    "def plot_linear_residual(lamb, m, n, tol, n_it=5):\n",
    "    ## Solve the problem here using the given parameters\n",
    "    n_it = int(n_it)\n",
    "    plt.figure(figsize=(14, 7))\n",
    "    n = int(n)\n",
    "    m = int(m)\n",
    "    ys_gmres = np.ones(n)\n",
    "    \n",
    "    for i in range(n_it):\n",
    "        res_gmres = make_G(m,n,ys_gmres)\n",
    "        ys_gmres = gauss_newton_gmres_sparse(m,n,ys_gmres,lamb=lamb,tol=tol,max_it=1)\n",
    "        plt.semilogy(res_gmres, '.')\n",
    "    plt.grid(True)\n",
    "    plt.show()\n",
    "\n",
    "interact(\n",
    "    plot_linear_residual, \n",
    "    lamb=(0.00001, 10, 0.00001),\n",
    "    m=widgets.FloatText(description=\"Num. Equations: \", value=350),\n",
    "    n=widgets.FloatText(description=\"Num. Unknowns : \", value=250),\n",
    "    tol=widgets.FloatText(description=\"Tolerance: \", value=1e-5),\n",
    "    n_it = widgets.FloatText(description=\"Num. iterations : \", value=5)\n",
    ");"
   ]
  },
  {
   "cell_type": "markdown",
   "metadata": {},
   "source": [
    "---\n",
    "# Instrucciones:\n",
    "\n",
    "* **Importante, Asegúrese de responder TODO lo que la pregunta pide.**\n",
    "* La estructura de la tarea es la siguiente:\n",
    "     1. Título, nombre de estudiante, email y rol.\n",
    "     2. Responder cada pregunta de forma personal.\n",
    "     5. Referencias. Es muy importante incluir todas las fuentes usadas, de otra forma se considera que lo no se ha citado adecuadamente es su trabajo.\n",
    "* La tarea debe ser realizada en `Jupyter Notebook` (`Python3`) entregado.\n",
    "* Recuerde responder la encuesta en el plazo establecido\n",
    "* Se evaluará la correcta utilización de librerias `NumPy`, `SciPy`, `Matplotlib` y `ipywidgets`, entre otras, así como la **correcta implementación de algoritmos vectorizados**.\n",
    "* **MUY IMPORTANTE** El archivo de entrega debe denominarse TareaN-rol.tar.gz y _notebook_ debe tener como nombre TareaN-rol.ipynb, donde $N$ es el número de la tarea y debe contener un directorio con todos los archivos necesarios para ejecutar el notebook, junto con un archivo README indicando explícitamente las librerías o módulos utilizados, nombre y rol del estudiante. Por cada error en este ambito implicará un descuento de 30 puntos.\n",
    "* El descuento por día de atraso será de $30$ puntos, con un máximo de 1 día de atraso. No se recibirán entregas después de este día.\n",
    "* Debe citar toda fuente de código externo. \n",
    "* El trabajo es personal, no se permite compartir código ni utilizar código de otros, aunque sí se sugiere discutir aspectos generales con sus compañeros.\n",
    "* En caso de sospecha de no cumplimiento de estas instrucciones, se solicitará al involucrado o la involucrada a aclarar la situación. Dependiendo de la justificación se decidirá su calificación, la cual podrá o no ser penalizada.\n",
    "* El no seguir estas instrucciones, implica descuentos en su nota obtenida."
   ]
  },
  {
   "cell_type": "markdown",
   "metadata": {},
   "source": [
    "# Referencias\n",
    "[1] https://docs.scipy.org/doc/scipy/reference/generated/scipy.sparse.csr_matrix.html#scipy.sparse.csr_matrix"
   ]
  },
  {
   "cell_type": "code",
   "execution_count": null,
   "metadata": {},
   "outputs": [],
   "source": []
  }
 ],
 "metadata": {
  "@webio": {
   "lastCommId": "c3bc6405bd5a44ea8b30eef2f7000858",
   "lastKernelId": "b9e96769-da91-4380-bba7-2f8d91f10369"
  },
  "kernelspec": {
   "display_name": "Python 3",
   "language": "python",
   "name": "python3"
  },
  "language_info": {
   "codemirror_mode": {
    "name": "ipython",
    "version": 3
   },
   "file_extension": ".py",
   "mimetype": "text/x-python",
   "name": "python",
   "nbconvert_exporter": "python",
   "pygments_lexer": "ipython3",
   "version": "3.7.4"
  }
 },
 "nbformat": 4,
 "nbformat_minor": 2
}
