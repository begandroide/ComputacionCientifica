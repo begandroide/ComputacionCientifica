{
 "cells": [
  {
   "cell_type": "markdown",
   "metadata": {},
   "source": [
    "<img src=\"escudo_utfsm.gif\" style=\"float:right;height:100px\">\n",
    "<img src=\"IsotipoDIisocolor.png\" style=\"float:left;height:100px\">\n",
    "<center>\n",
    "    <h1> INF/ILI 285 Computación Científica I</h1>\n",
    "    <h1> Tarea N°4: Extendiendo el Método de Newton </h1>\n",
    "    <h3> [S]cientific [C]omputing [T]eam 2019</h3>\n",
    "</center>\n",
    "<p>\n",
    "<center>Septiembre 2019 - v1.0</center>\n",
    "</p>\n",
    "\n",
    "---"
   ]
  },
  {
   "cell_type": "code",
   "execution_count": 14,
   "metadata": {},
   "outputs": [],
   "source": [
    "from __future__ import print_function\n",
    "import numpy as np\n",
    "import matplotlib.pyplot as plt\n",
    "from ipywidgets import interact, interactive, fixed, interact_manual\n",
    "import ipywidgets as widgets\n",
    "from  scipy.linalg import lu\n",
    "from  scipy.linalg import solve_triangular\n",
    "from scipy.sparse import lil_matrix\n",
    "from scipy.sparse import identity"
   ]
  },
  {
   "cell_type": "markdown",
   "metadata": {},
   "source": [
    "## Contexto\n",
    "\n",
    "Un sistema de ecuaciones no lineales es un sistema en el cual la salida del problema no es linealmente proporcional a las entradas.\n",
    "Este problema se puede representar vectorialmente de la siguiente manera:\n",
    "\n",
    "\\begin{equation*}\n",
    "    \\mathbf{F}(\\mathbf{x})=\\mathbf{y},\n",
    "\\end{equation*}\n",
    "\n",
    "donde $\\mathbf{F}:\\mathbb{R}^n\\rightarrow \\mathbb{R}^n$ es una función no lineal, $\\mathbf{x} \\in \\mathbb{R}^{n}$ e $\\mathbf{y} \\in \\mathbb{R}^{n}$. Como se vio en clases, podemos solucionar este problema usando el método de *Newton multivariado*:\n",
    "\n",
    "\\begin{equation*}\n",
    "    \\mathbf{x_{k+1}}=\\mathbf{x_k}-J_{\\mathbf{G}}^{-1}(\\mathbf{x_k})\\mathbf{G}(\\mathbf{x_k}),\n",
    "\\end{equation*}\n",
    "\n",
    "donde $\\mathbf{G}({\\mathbf{x}})=\\mathbf{F}(\\mathbf{x})-\\mathbf{y}=\\mathbf{0}$, o sea, se está realizando una busqueda de raíces, y $J_{\\mathbf{G}}(\\mathbf{x_k}) \\in \\mathbb{R}^{n\\times n}$ es la matriz jacobiana de $\\mathbf{G}$. Para evitar calcular inversas, la iteración puede ser representada de la siguiente manera:\n",
    "\\begin{align}\n",
    "    \\mathbf{x_{k+1}} &= \\mathbf{x_k}-\\delta\\mathbf{x_k}, \\\\\n",
    "    J_{\\mathbf{G}}(\\mathbf{x_k})\\delta\\mathbf{ x_k} &= \\mathbf{G}(\\mathbf{x_k}).\n",
    "\\end{align}"
   ]
  },
  {
   "cell_type": "markdown",
   "metadata": {},
   "source": [
    "### Sistema no lineal sobredeterminado\n",
    "\n",
    "En la asignatura se aprendió a resolver sistemas no lineales con Newton multivariado cuando $\\mathbf{F}$ va de $\\mathbb{R}^n$ a $\\mathbb{R}^n$. Ahora veremos como resolver el caso en el que $\\mathbf{F}$ va de $\\mathbb{R}^n$ a $\\mathbb{R}^m$, con $m\\geq n$.\n",
    "\n",
    "Al desarrollar un problema de busqueda de raíces multivariado usando Newton multivariado, nos toparemos con que la matriz jacobiana $J_{\\mathbf{G}}(\\mathbf{x_k})$ tiene dimensiones $m\\times n$, y por lo tanto debemos resolver un sistema sobredeterminado. Se introduce entonces el método de *Gauss-Newton*, el cual es similar el Método de Newton multivariado pero en vez de resolver el sistema de ecuaciones lineales sobredeterminado\n",
    "\n",
    "$$\n",
    "    J_{\\mathbf{G}}(\\mathbf{x}_k)\\,\\delta\\mathbf{x}_k = \\mathbf{G}(\\mathbf{x}_k),\n",
    "$$\n",
    "\n",
    "resuelve el siguiente problema de mínimos cuadrados\n",
    "\n",
    "$$\n",
    "    \\min_{\\delta\\mathbf{x}_k \\in \\mathbb{R}^n} \\left\\lVert J_{\\mathbf{G}}(\\mathbf{x}_k)\\,\\delta\\mathbf{x}_k - \\mathbf{G}(\\mathbf{x}_k) \\right\\rVert_2^2.\n",
    "$$\n",
    "\n",
    "Para resolver esto, usaremos las ecuaciones normales:\n",
    "\\begin{equation*}\n",
    "    J_{\\mathbf{G}}^T(\\mathbf{x_k})J_{\\mathbf{G}}(\\mathbf{x_k})\\delta\\mathbf{ x_k}=J_{\\mathbf{G}}^T(\\mathbf{x_k})\\mathbf{G}(\\mathbf{x_k}).\n",
    "\\end{equation*}\n",
    "\n",
    "Para evitar tener matrices singulares, agregaremos una pequeña perturbación a la diagonal de la matriz $J_{\\mathbf{G}}(\\mathbf{x_k})^T\\,J_{\\mathbf{G}}(\\mathbf{x_k})$ igual a un factor real no negativo $\\lambda$ (denominado *factor de amortiguamiento*) por la matriz identidad. Esta modificación, introducida por Kenneth Levenberg, suele ser recalculada en cada iteración. Finalmente, nuestro algoritmo será:\n",
    "\\begin{align}\n",
    "    \\mathbf{x_{k+1}} &= \\mathbf{x_k}-\\delta\\mathbf{x_k}, \\\\\n",
    "    \\left(J_{\\mathbf{G}}^T(\\mathbf{x_k})J_{\\mathbf{G}}(\\mathbf{x_k})+\\lambda I\\right)\\delta\\mathbf{ x_k} &= J_{\\mathbf{G}}^T(\\mathbf{x_k})\\mathbf{G}(\\mathbf{x_k}).\n",
    "\\end{align}"
   ]
  },
  {
   "cell_type": "markdown",
   "metadata": {},
   "source": [
    "## Preguntas\n",
    "---"
   ]
  },
  {
   "cell_type": "markdown",
   "metadata": {},
   "source": [
    "Sea $m$ el número de ecuaciones y $n$ el número de incógnitas, llamaremos $F$ el sistema de funciones no lineales tal que su $i$-ésima ecuación se define como:\n",
    "\n",
    "$$\n",
    "    f_i(\\mathbf{x}) = n + (j+1)\\left(1 - \\cos x_j + \\sin x_j  \\right) - \\sin x_j - \\frac{n}{3}\\left( \\cos x_j + \\cos x_k + \\cos x_w \\right),\n",
    "$$\n",
    "\n",
    "donde $j = i\\% n$, $k = (i+1) \\% n$ y $w = (i+2) \\% n$, y $\\%$ es la operación _módulo_, la cual calcula el resto de la división entre un número y otro. Considere que el RHS del sistema es el vector nulo, esto es $F(\\mathbf{x})=\\mathbf{0}$."
   ]
  },
  {
   "cell_type": "markdown",
   "metadata": {},
   "source": [
    "## Sección 1 (20 puntos)\n",
    "\n",
    "1. Calcule y muestre la estructura de la matriz Jacobiana del sistema entregado, considerando $m$ ecuaciones y $n$ variables. Implemente la rutina `evaluate_jacobian`, la cual debe retornar la matriz evaluada en el vector parámetro $\\mathbf{x}$."
   ]
  },
  {
   "cell_type": "code",
   "execution_count": 3,
   "metadata": {},
   "outputs": [],
   "source": [
    "partial_xj = lambda x_j,j,n: (j*np.sin(x_j) + j*np.cos(x_j) + np.sin(x_j) + (n/3)*np.sin(x_j) )\n",
    "partial_xk = lambda x_k,n: (n/3)*np.sin(x_k)\n",
    "partial_xw = lambda x_w,n: (n/3)*np.sin(x_w)\n",
    "'''\n",
    "Input: \n",
    "m - Number of equations of F\n",
    "n - Number of variables\n",
    "x - (array) Vector of dimension n\n",
    "Output:\n",
    "Jx - (double-array) Vector x evaluated in jacobian matrix of F. Its dimension is mxn \n",
    "'''\n",
    "def evaluate_jacobian(m,n,x):\n",
    "    Jx = np.zeros((m,n))\n",
    "    if(n<=2): return Jx\n",
    "    \n",
    "    for i in range(0,m):\n",
    "        j = i%n\n",
    "        k = (i+1)%n\n",
    "        w = (i+2)%n\n",
    "        #print(\"j:{},k:{},w:{}\".format(j,k,w))\n",
    "        elem_j = partial_xj(x[j],j,n)\n",
    "        elem_k = partial_xk(x[k],n)\n",
    "        elem_w = partial_xw(x[w],n)\n",
    "        Jx[i,j] = elem_j\n",
    "        Jx[i,k] = elem_k\n",
    "        Jx[i,w] = elem_w\n",
    "        \n",
    "    return Jx"
   ]
  },
  {
   "cell_type": "code",
   "execution_count": null,
   "metadata": {},
   "outputs": [],
   "source": [
    "xs = np.zeros((7,1))\n",
    "xs[0] = 1\n",
    "xs[1] = 1\n",
    "xs[2] = 1\n",
    "xs[3] = 1\n",
    "xs[4] = 1\n",
    "xs[5] = 1\n",
    "xs[6] = 1\n",
    "evaluate_jacobian(8,7,xs)"
   ]
  },
  {
   "cell_type": "markdown",
   "metadata": {},
   "source": [
    "2. Implemente el algoritmo de Gauss-Newton, con parámetro $\\lambda = 0.0001$, que resuelva el sistema de ecuaciones lineales mediante PALU. Puede utilizar la implementación de `scipy` de PALU. Para esto utilice la firma entregada. Mida y grafique los tiempos de cómputo para las siguientes combinaciones de dimensiones:\n",
    "    * 5000 ecuaciones y 3000 incógnitas.\n",
    "    * 10000 ecuaciones y 6000 incógnitas.\n",
    "    * 15000 ecuaciones y 9000 incógnitas.\n",
    "   \n",
    "   Si obtiene errores de memoria u obtiene tiempos de ejecución sobre los 5 minutos, comente al respecto. Puede variar el número de iteraciones en caso de altos tiempos de cómputo."
   ]
  },
  {
   "cell_type": "code",
   "execution_count": 4,
   "metadata": {},
   "outputs": [],
   "source": [
    "F = lambda n,j,xj,xk,xw: n+(j+1)*(1-np.cos(xj)+np.sin(xj)) - np.sin(xj) - (n/3.0)*(np.cos(xj)+np.cos(xk)+np.cos(xw))"
   ]
  },
  {
   "cell_type": "code",
   "execution_count": 5,
   "metadata": {},
   "outputs": [],
   "source": [
    "def make_G(m,n,xs):\n",
    "    g = np.zeros(m)\n",
    "    \n",
    "    for i in range(0,m-1):\n",
    "        j = i%n\n",
    "        k = (i+1)%n\n",
    "        w = (i+2)%n\n",
    "        g[i] = F(n,j,xs[j],xs[k],xs[w])\n",
    "#         print(g[i])\n",
    "    return g\n",
    "\n",
    "from scipy.linalg import solve_triangular as st\n",
    "\n",
    "def solve_palu(A, b):\n",
    "    P,L,U = lu(A)\n",
    "#     print(\"b\")\n",
    "#     print(b)\n",
    "    b = np.dot(P.T,b)\n",
    "    c = st(L,b,lower=True)\n",
    "    x = st(U, c)\n",
    "    return x"
   ]
  },
  {
   "cell_type": "code",
   "execution_count": 28,
   "metadata": {},
   "outputs": [],
   "source": [
    "'''\n",
    "Input: \n",
    "m - Number of equations of F\n",
    "n - Number of variables\n",
    "x0 - Initial guess\n",
    "tol - Tolerance of root mean square error in order to return gauss-newton solution\n",
    "max_it - Max. number of iterations\n",
    "Output:\n",
    "xk - (array) Solution vector of gauss-newton. Its dimension is n\n",
    "'''\n",
    "def gauss_newton_palu(m, n, x0, lamb=0.0001, tol=1e-5, max_it=10):\n",
    "    xk = x0\n",
    "    lambda_xk = np.zeros(n) #incognita\n",
    "    \n",
    "    for i in range(max_it):\n",
    "        #calculate G(xk)\n",
    "        g = make_G(m,n,xk)\n",
    "        Jg = evaluate_jacobian(m,n,xk)\n",
    "        #usar palu para resolver\n",
    "        print(\"JG.shape = {}\".format(Jg.shape))\n",
    "        left_eq = ((Jg.T).dot(Jg) + (lamb*np.identity(n)))\n",
    "#         print(left_eq)\n",
    "        right_eq = (Jg.T).dot(g)\n",
    "#         print(right_eq)\n",
    "        lambda_xk = solve_palu(left_eq,right_eq)\n",
    "        #calculate lambda_xk from Jf-1Jf...\n",
    "        xk_plus1 = xk - lambda_xk\n",
    "#         if(xk_plus1 - xk <= tol):\n",
    "#             break\n",
    "        xk = xk_plus1\n",
    "    return xk"
   ]
  },
  {
   "cell_type": "code",
   "execution_count": 54,
   "metadata": {},
   "outputs": [
    {
     "name": "stdout",
     "output_type": "stream",
     "text": [
      "JG.shape = (5000, 3000)\n"
     ]
    },
    {
     "ename": "MemoryError",
     "evalue": "",
     "output_type": "error",
     "traceback": [
      "\u001b[1;31m---------------------------------------------------------------------------\u001b[0m",
      "\u001b[1;31mMemoryError\u001b[0m                               Traceback (most recent call last)",
      "\u001b[1;32m<timed eval>\u001b[0m in \u001b[0;36m<module>\u001b[1;34m\u001b[0m\n",
      "\u001b[1;32m<ipython-input-28-07a9a79d8da9>\u001b[0m in \u001b[0;36mgauss_newton_palu\u001b[1;34m(m, n, x0, lamb, tol, max_it)\u001b[0m\n\u001b[0;32m     19\u001b[0m         \u001b[1;31m#usar palu para resolver\u001b[0m\u001b[1;33m\u001b[0m\u001b[1;33m\u001b[0m\u001b[1;33m\u001b[0m\u001b[0m\n\u001b[0;32m     20\u001b[0m         \u001b[0mprint\u001b[0m\u001b[1;33m(\u001b[0m\u001b[1;34m\"JG.shape = {}\"\u001b[0m\u001b[1;33m.\u001b[0m\u001b[0mformat\u001b[0m\u001b[1;33m(\u001b[0m\u001b[0mJg\u001b[0m\u001b[1;33m.\u001b[0m\u001b[0mshape\u001b[0m\u001b[1;33m)\u001b[0m\u001b[1;33m)\u001b[0m\u001b[1;33m\u001b[0m\u001b[1;33m\u001b[0m\u001b[0m\n\u001b[1;32m---> 21\u001b[1;33m         \u001b[0mleft_eq\u001b[0m \u001b[1;33m=\u001b[0m \u001b[1;33m(\u001b[0m\u001b[1;33m(\u001b[0m\u001b[0mJg\u001b[0m\u001b[1;33m.\u001b[0m\u001b[0mT\u001b[0m\u001b[1;33m)\u001b[0m\u001b[1;33m.\u001b[0m\u001b[0mdot\u001b[0m\u001b[1;33m(\u001b[0m\u001b[0mJg\u001b[0m\u001b[1;33m)\u001b[0m \u001b[1;33m+\u001b[0m \u001b[1;33m(\u001b[0m\u001b[0mlamb\u001b[0m\u001b[1;33m*\u001b[0m\u001b[0mnp\u001b[0m\u001b[1;33m.\u001b[0m\u001b[0midentity\u001b[0m\u001b[1;33m(\u001b[0m\u001b[0mn\u001b[0m\u001b[1;33m)\u001b[0m\u001b[1;33m)\u001b[0m\u001b[1;33m)\u001b[0m\u001b[1;33m\u001b[0m\u001b[1;33m\u001b[0m\u001b[0m\n\u001b[0m\u001b[0;32m     22\u001b[0m \u001b[1;31m#         print(left_eq)\u001b[0m\u001b[1;33m\u001b[0m\u001b[1;33m\u001b[0m\u001b[1;33m\u001b[0m\u001b[0m\n\u001b[0;32m     23\u001b[0m         \u001b[0mright_eq\u001b[0m \u001b[1;33m=\u001b[0m \u001b[1;33m(\u001b[0m\u001b[0mJg\u001b[0m\u001b[1;33m.\u001b[0m\u001b[0mT\u001b[0m\u001b[1;33m)\u001b[0m\u001b[1;33m.\u001b[0m\u001b[0mdot\u001b[0m\u001b[1;33m(\u001b[0m\u001b[0mg\u001b[0m\u001b[1;33m)\u001b[0m\u001b[1;33m\u001b[0m\u001b[1;33m\u001b[0m\u001b[0m\n",
      "\u001b[1;32m~\\AppData\\Local\\Programs\\Python\\Python37-32\\lib\\site-packages\\numpy\\core\\numeric.py\u001b[0m in \u001b[0;36midentity\u001b[1;34m(n, dtype)\u001b[0m\n\u001b[0;32m   2346\u001b[0m     \"\"\"\n\u001b[0;32m   2347\u001b[0m     \u001b[1;32mfrom\u001b[0m \u001b[0mnumpy\u001b[0m \u001b[1;32mimport\u001b[0m \u001b[0meye\u001b[0m\u001b[1;33m\u001b[0m\u001b[1;33m\u001b[0m\u001b[0m\n\u001b[1;32m-> 2348\u001b[1;33m     \u001b[1;32mreturn\u001b[0m \u001b[0meye\u001b[0m\u001b[1;33m(\u001b[0m\u001b[0mn\u001b[0m\u001b[1;33m,\u001b[0m \u001b[0mdtype\u001b[0m\u001b[1;33m=\u001b[0m\u001b[0mdtype\u001b[0m\u001b[1;33m)\u001b[0m\u001b[1;33m\u001b[0m\u001b[1;33m\u001b[0m\u001b[0m\n\u001b[0m\u001b[0;32m   2349\u001b[0m \u001b[1;33m\u001b[0m\u001b[0m\n\u001b[0;32m   2350\u001b[0m \u001b[1;33m\u001b[0m\u001b[0m\n",
      "\u001b[1;32m~\\AppData\\Local\\Programs\\Python\\Python37-32\\lib\\site-packages\\numpy\\lib\\twodim_base.py\u001b[0m in \u001b[0;36meye\u001b[1;34m(N, M, k, dtype, order)\u001b[0m\n\u001b[0;32m    199\u001b[0m     \u001b[1;32mif\u001b[0m \u001b[0mM\u001b[0m \u001b[1;32mis\u001b[0m \u001b[1;32mNone\u001b[0m\u001b[1;33m:\u001b[0m\u001b[1;33m\u001b[0m\u001b[1;33m\u001b[0m\u001b[0m\n\u001b[0;32m    200\u001b[0m         \u001b[0mM\u001b[0m \u001b[1;33m=\u001b[0m \u001b[0mN\u001b[0m\u001b[1;33m\u001b[0m\u001b[1;33m\u001b[0m\u001b[0m\n\u001b[1;32m--> 201\u001b[1;33m     \u001b[0mm\u001b[0m \u001b[1;33m=\u001b[0m \u001b[0mzeros\u001b[0m\u001b[1;33m(\u001b[0m\u001b[1;33m(\u001b[0m\u001b[0mN\u001b[0m\u001b[1;33m,\u001b[0m \u001b[0mM\u001b[0m\u001b[1;33m)\u001b[0m\u001b[1;33m,\u001b[0m \u001b[0mdtype\u001b[0m\u001b[1;33m=\u001b[0m\u001b[0mdtype\u001b[0m\u001b[1;33m,\u001b[0m \u001b[0morder\u001b[0m\u001b[1;33m=\u001b[0m\u001b[0morder\u001b[0m\u001b[1;33m)\u001b[0m\u001b[1;33m\u001b[0m\u001b[1;33m\u001b[0m\u001b[0m\n\u001b[0m\u001b[0;32m    202\u001b[0m     \u001b[1;32mif\u001b[0m \u001b[0mk\u001b[0m \u001b[1;33m>=\u001b[0m \u001b[0mM\u001b[0m\u001b[1;33m:\u001b[0m\u001b[1;33m\u001b[0m\u001b[1;33m\u001b[0m\u001b[0m\n\u001b[0;32m    203\u001b[0m         \u001b[1;32mreturn\u001b[0m \u001b[0mm\u001b[0m\u001b[1;33m\u001b[0m\u001b[1;33m\u001b[0m\u001b[0m\n",
      "\u001b[1;31mMemoryError\u001b[0m: "
     ]
    }
   ],
   "source": [
    "xs = np.ones(3000)\n",
    "%time gauss_newton_palu(5000,3000,xs,max_it=10)"
   ]
  },
  {
   "cell_type": "code",
   "execution_count": 31,
   "metadata": {},
   "outputs": [
    {
     "name": "stdout",
     "output_type": "stream",
     "text": [
      "JG.shape = (10000, 6000)\n"
     ]
    },
    {
     "ename": "MemoryError",
     "evalue": "",
     "output_type": "error",
     "traceback": [
      "\u001b[1;31m---------------------------------------------------------------------------\u001b[0m",
      "\u001b[1;31mMemoryError\u001b[0m                               Traceback (most recent call last)",
      "\u001b[1;32m<timed eval>\u001b[0m in \u001b[0;36m<module>\u001b[1;34m\u001b[0m\n",
      "\u001b[1;32m<ipython-input-28-07a9a79d8da9>\u001b[0m in \u001b[0;36mgauss_newton_palu\u001b[1;34m(m, n, x0, lamb, tol, max_it)\u001b[0m\n\u001b[0;32m     19\u001b[0m         \u001b[1;31m#usar palu para resolver\u001b[0m\u001b[1;33m\u001b[0m\u001b[1;33m\u001b[0m\u001b[1;33m\u001b[0m\u001b[0m\n\u001b[0;32m     20\u001b[0m         \u001b[0mprint\u001b[0m\u001b[1;33m(\u001b[0m\u001b[1;34m\"JG.shape = {}\"\u001b[0m\u001b[1;33m.\u001b[0m\u001b[0mformat\u001b[0m\u001b[1;33m(\u001b[0m\u001b[0mJg\u001b[0m\u001b[1;33m.\u001b[0m\u001b[0mshape\u001b[0m\u001b[1;33m)\u001b[0m\u001b[1;33m)\u001b[0m\u001b[1;33m\u001b[0m\u001b[1;33m\u001b[0m\u001b[0m\n\u001b[1;32m---> 21\u001b[1;33m         \u001b[0mleft_eq\u001b[0m \u001b[1;33m=\u001b[0m \u001b[1;33m(\u001b[0m\u001b[1;33m(\u001b[0m\u001b[0mJg\u001b[0m\u001b[1;33m.\u001b[0m\u001b[0mT\u001b[0m\u001b[1;33m)\u001b[0m\u001b[1;33m.\u001b[0m\u001b[0mdot\u001b[0m\u001b[1;33m(\u001b[0m\u001b[0mJg\u001b[0m\u001b[1;33m)\u001b[0m \u001b[1;33m+\u001b[0m \u001b[1;33m(\u001b[0m\u001b[0mlamb\u001b[0m\u001b[1;33m*\u001b[0m\u001b[0mnp\u001b[0m\u001b[1;33m.\u001b[0m\u001b[0midentity\u001b[0m\u001b[1;33m(\u001b[0m\u001b[0mn\u001b[0m\u001b[1;33m)\u001b[0m\u001b[1;33m)\u001b[0m\u001b[1;33m)\u001b[0m\u001b[1;33m\u001b[0m\u001b[1;33m\u001b[0m\u001b[0m\n\u001b[0m\u001b[0;32m     22\u001b[0m \u001b[1;31m#         print(left_eq)\u001b[0m\u001b[1;33m\u001b[0m\u001b[1;33m\u001b[0m\u001b[1;33m\u001b[0m\u001b[0m\n\u001b[0;32m     23\u001b[0m         \u001b[0mright_eq\u001b[0m \u001b[1;33m=\u001b[0m \u001b[1;33m(\u001b[0m\u001b[0mJg\u001b[0m\u001b[1;33m.\u001b[0m\u001b[0mT\u001b[0m\u001b[1;33m)\u001b[0m\u001b[1;33m.\u001b[0m\u001b[0mdot\u001b[0m\u001b[1;33m(\u001b[0m\u001b[0mg\u001b[0m\u001b[1;33m)\u001b[0m\u001b[1;33m\u001b[0m\u001b[1;33m\u001b[0m\u001b[0m\n",
      "\u001b[1;31mMemoryError\u001b[0m: "
     ]
    }
   ],
   "source": [
    "xs = np.ones(6000)\n",
    "%time gauss_newton_palu(10000,6000,xs,max_it=10)"
   ]
  },
  {
   "cell_type": "code",
   "execution_count": 44,
   "metadata": {},
   "outputs": [
    {
     "ename": "MemoryError",
     "evalue": "",
     "output_type": "error",
     "traceback": [
      "\u001b[1;31m---------------------------------------------------------------------------\u001b[0m",
      "\u001b[1;31mMemoryError\u001b[0m                               Traceback (most recent call last)",
      "\u001b[1;32m<ipython-input-44-fb7ea486c370>\u001b[0m in \u001b[0;36m<module>\u001b[1;34m\u001b[0m\n\u001b[1;32m----> 1\u001b[1;33m \u001b[0mA\u001b[0m \u001b[1;33m=\u001b[0m \u001b[0mnp\u001b[0m\u001b[1;33m.\u001b[0m\u001b[0mrandom\u001b[0m\u001b[1;33m.\u001b[0m\u001b[0mrand\u001b[0m\u001b[1;33m(\u001b[0m\u001b[1;36m10000\u001b[0m\u001b[1;33m,\u001b[0m\u001b[1;36m10000\u001b[0m\u001b[1;33m)\u001b[0m\u001b[1;33m\u001b[0m\u001b[1;33m\u001b[0m\u001b[0m\n\u001b[0m",
      "\u001b[1;32mmtrand.pyx\u001b[0m in \u001b[0;36mmtrand.RandomState.rand\u001b[1;34m()\u001b[0m\n",
      "\u001b[1;32mmtrand.pyx\u001b[0m in \u001b[0;36mmtrand.RandomState.random_sample\u001b[1;34m()\u001b[0m\n",
      "\u001b[1;32mmtrand.pyx\u001b[0m in \u001b[0;36mmtrand.cont0_array\u001b[1;34m()\u001b[0m\n",
      "\u001b[1;31mMemoryError\u001b[0m: "
     ]
    }
   ],
   "source": [
    "A = np.random.rand(10000,10000)"
   ]
  },
  {
   "cell_type": "code",
   "execution_count": 45,
   "metadata": {},
   "outputs": [
    {
     "ename": "MemoryError",
     "evalue": "",
     "output_type": "error",
     "traceback": [
      "\u001b[1;31m---------------------------------------------------------------------------\u001b[0m",
      "\u001b[1;31mMemoryError\u001b[0m                               Traceback (most recent call last)",
      "\u001b[1;32m<timed eval>\u001b[0m in \u001b[0;36m<module>\u001b[1;34m\u001b[0m\n",
      "\u001b[1;32m<ipython-input-28-07a9a79d8da9>\u001b[0m in \u001b[0;36mgauss_newton_palu\u001b[1;34m(m, n, x0, lamb, tol, max_it)\u001b[0m\n\u001b[0;32m     16\u001b[0m         \u001b[1;31m#calculate G(xk)\u001b[0m\u001b[1;33m\u001b[0m\u001b[1;33m\u001b[0m\u001b[1;33m\u001b[0m\u001b[0m\n\u001b[0;32m     17\u001b[0m         \u001b[0mg\u001b[0m \u001b[1;33m=\u001b[0m \u001b[0mmake_G\u001b[0m\u001b[1;33m(\u001b[0m\u001b[0mm\u001b[0m\u001b[1;33m,\u001b[0m\u001b[0mn\u001b[0m\u001b[1;33m,\u001b[0m\u001b[0mxk\u001b[0m\u001b[1;33m)\u001b[0m\u001b[1;33m\u001b[0m\u001b[1;33m\u001b[0m\u001b[0m\n\u001b[1;32m---> 18\u001b[1;33m         \u001b[0mJg\u001b[0m \u001b[1;33m=\u001b[0m \u001b[0mevaluate_jacobian\u001b[0m\u001b[1;33m(\u001b[0m\u001b[0mm\u001b[0m\u001b[1;33m,\u001b[0m\u001b[0mn\u001b[0m\u001b[1;33m,\u001b[0m\u001b[0mxk\u001b[0m\u001b[1;33m)\u001b[0m\u001b[1;33m\u001b[0m\u001b[1;33m\u001b[0m\u001b[0m\n\u001b[0m\u001b[0;32m     19\u001b[0m         \u001b[1;31m#usar palu para resolver\u001b[0m\u001b[1;33m\u001b[0m\u001b[1;33m\u001b[0m\u001b[1;33m\u001b[0m\u001b[0m\n\u001b[0;32m     20\u001b[0m         \u001b[0mprint\u001b[0m\u001b[1;33m(\u001b[0m\u001b[1;34m\"JG.shape = {}\"\u001b[0m\u001b[1;33m.\u001b[0m\u001b[0mformat\u001b[0m\u001b[1;33m(\u001b[0m\u001b[0mJg\u001b[0m\u001b[1;33m.\u001b[0m\u001b[0mshape\u001b[0m\u001b[1;33m)\u001b[0m\u001b[1;33m)\u001b[0m\u001b[1;33m\u001b[0m\u001b[1;33m\u001b[0m\u001b[0m\n",
      "\u001b[1;32m<ipython-input-3-0aa1b240e743>\u001b[0m in \u001b[0;36mevaluate_jacobian\u001b[1;34m(m, n, x)\u001b[0m\n\u001b[0;32m     11\u001b[0m '''\n\u001b[0;32m     12\u001b[0m \u001b[1;32mdef\u001b[0m \u001b[0mevaluate_jacobian\u001b[0m\u001b[1;33m(\u001b[0m\u001b[0mm\u001b[0m\u001b[1;33m,\u001b[0m\u001b[0mn\u001b[0m\u001b[1;33m,\u001b[0m\u001b[0mx\u001b[0m\u001b[1;33m)\u001b[0m\u001b[1;33m:\u001b[0m\u001b[1;33m\u001b[0m\u001b[1;33m\u001b[0m\u001b[0m\n\u001b[1;32m---> 13\u001b[1;33m     \u001b[0mJx\u001b[0m \u001b[1;33m=\u001b[0m \u001b[0mnp\u001b[0m\u001b[1;33m.\u001b[0m\u001b[0mzeros\u001b[0m\u001b[1;33m(\u001b[0m\u001b[1;33m(\u001b[0m\u001b[0mm\u001b[0m\u001b[1;33m,\u001b[0m\u001b[0mn\u001b[0m\u001b[1;33m)\u001b[0m\u001b[1;33m)\u001b[0m\u001b[1;33m\u001b[0m\u001b[1;33m\u001b[0m\u001b[0m\n\u001b[0m\u001b[0;32m     14\u001b[0m     \u001b[1;32mif\u001b[0m\u001b[1;33m(\u001b[0m\u001b[0mn\u001b[0m\u001b[1;33m<=\u001b[0m\u001b[1;36m2\u001b[0m\u001b[1;33m)\u001b[0m\u001b[1;33m:\u001b[0m \u001b[1;32mreturn\u001b[0m \u001b[0mJx\u001b[0m\u001b[1;33m\u001b[0m\u001b[1;33m\u001b[0m\u001b[0m\n\u001b[0;32m     15\u001b[0m \u001b[1;33m\u001b[0m\u001b[0m\n",
      "\u001b[1;31mMemoryError\u001b[0m: "
     ]
    }
   ],
   "source": [
    "xs = np.ones(9000)\n",
    "%time gauss_newton_palu(15000,9000,xs,max_it=10)"
   ]
  },
  {
   "cell_type": "markdown",
   "metadata": {},
   "source": [
    "3. Realice el mismo experimento, pero utilizando GMRes. Considere la misma variación de dimensiones que en la pregunta anterior. Utilice la firma entregada. De igual manera, si tiene errores de memoria o tiempos de ejecución por sobre los 5 minutos, comente al respecto."
   ]
  },
  {
   "cell_type": "code",
   "execution_count": 51,
   "metadata": {},
   "outputs": [],
   "source": [
    "from scipy.sparse.linalg import gmres\n",
    "'''\n",
    "Input: \n",
    "m - Number of equations of F\n",
    "n - Number of variables\n",
    "x0 - Initial guess\n",
    "tol - Tolerance of root mean square error in order to return gauss-newton solution\n",
    "max_it - Max. number of iterations\n",
    "Output:\n",
    "xk - (array) Solution vector of gauss-newton. Its dimension is n\n",
    "'''\n",
    "def gauss_newton_gmres(m, n, x0, lamb=0.0001, tol=1e-5, max_it=10):\n",
    "    xk = x0\n",
    "    \n",
    "    lambda_xk = np.zeros(n) #incognita\n",
    "    \n",
    "    for i in range(max_it):\n",
    "        #calculate G(xk)\n",
    "        g = make_G(m,n,xk)\n",
    "        Jg = evaluate_jacobian(m,n,xk)\n",
    "        #usar palu para resolver\n",
    "        left_eq = ((Jg.T).dot(Jg) + (lamb*np.eye(n)))\n",
    "#         print(left_eq)\n",
    "        right_eq = (Jg.T).dot(g)\n",
    "#         print(right_eq)\n",
    "        lambda_xk,_ = gmres(left_eq,right_eq)\n",
    "        #calculate lambda_xk from Jf-1Jf...\n",
    "        xk_plus1 = xk - lambda_xk\n",
    "#         if(xk_plus1 - xk <= tol):\n",
    "#             break\n",
    "        xk = xk_plus1\n",
    "    \n",
    "    return xk"
   ]
  },
  {
   "cell_type": "code",
   "execution_count": 52,
   "metadata": {},
   "outputs": [
    {
     "ename": "MemoryError",
     "evalue": "",
     "output_type": "error",
     "traceback": [
      "\u001b[1;31m---------------------------------------------------------------------------\u001b[0m",
      "\u001b[1;31mMemoryError\u001b[0m                               Traceback (most recent call last)",
      "\u001b[1;32m<timed eval>\u001b[0m in \u001b[0;36m<module>\u001b[1;34m\u001b[0m\n",
      "\u001b[1;32m<ipython-input-51-c5a8d7cff9d3>\u001b[0m in \u001b[0;36mgauss_newton_gmres\u001b[1;34m(m, n, x0, lamb, tol, max_it)\u001b[0m\n\u001b[0;32m     20\u001b[0m         \u001b[0mJg\u001b[0m \u001b[1;33m=\u001b[0m \u001b[0mevaluate_jacobian\u001b[0m\u001b[1;33m(\u001b[0m\u001b[0mm\u001b[0m\u001b[1;33m,\u001b[0m\u001b[0mn\u001b[0m\u001b[1;33m,\u001b[0m\u001b[0mxk\u001b[0m\u001b[1;33m)\u001b[0m\u001b[1;33m\u001b[0m\u001b[1;33m\u001b[0m\u001b[0m\n\u001b[0;32m     21\u001b[0m         \u001b[1;31m#usar palu para resolver\u001b[0m\u001b[1;33m\u001b[0m\u001b[1;33m\u001b[0m\u001b[1;33m\u001b[0m\u001b[0m\n\u001b[1;32m---> 22\u001b[1;33m         \u001b[0mleft_eq\u001b[0m \u001b[1;33m=\u001b[0m \u001b[1;33m(\u001b[0m\u001b[1;33m(\u001b[0m\u001b[0mJg\u001b[0m\u001b[1;33m.\u001b[0m\u001b[0mT\u001b[0m\u001b[1;33m)\u001b[0m\u001b[1;33m.\u001b[0m\u001b[0mdot\u001b[0m\u001b[1;33m(\u001b[0m\u001b[0mJg\u001b[0m\u001b[1;33m)\u001b[0m \u001b[1;33m+\u001b[0m \u001b[1;33m(\u001b[0m\u001b[0mlamb\u001b[0m\u001b[1;33m*\u001b[0m\u001b[0mnp\u001b[0m\u001b[1;33m.\u001b[0m\u001b[0meye\u001b[0m\u001b[1;33m(\u001b[0m\u001b[0mn\u001b[0m\u001b[1;33m)\u001b[0m\u001b[1;33m)\u001b[0m\u001b[1;33m)\u001b[0m\u001b[1;33m\u001b[0m\u001b[1;33m\u001b[0m\u001b[0m\n\u001b[0m\u001b[0;32m     23\u001b[0m \u001b[1;31m#         print(left_eq)\u001b[0m\u001b[1;33m\u001b[0m\u001b[1;33m\u001b[0m\u001b[1;33m\u001b[0m\u001b[0m\n\u001b[0;32m     24\u001b[0m         \u001b[0mright_eq\u001b[0m \u001b[1;33m=\u001b[0m \u001b[1;33m(\u001b[0m\u001b[0mJg\u001b[0m\u001b[1;33m.\u001b[0m\u001b[0mT\u001b[0m\u001b[1;33m)\u001b[0m\u001b[1;33m.\u001b[0m\u001b[0mdot\u001b[0m\u001b[1;33m(\u001b[0m\u001b[0mg\u001b[0m\u001b[1;33m)\u001b[0m\u001b[1;33m\u001b[0m\u001b[1;33m\u001b[0m\u001b[0m\n",
      "\u001b[1;32m~\\AppData\\Local\\Programs\\Python\\Python37-32\\lib\\site-packages\\numpy\\lib\\twodim_base.py\u001b[0m in \u001b[0;36meye\u001b[1;34m(N, M, k, dtype, order)\u001b[0m\n\u001b[0;32m    199\u001b[0m     \u001b[1;32mif\u001b[0m \u001b[0mM\u001b[0m \u001b[1;32mis\u001b[0m \u001b[1;32mNone\u001b[0m\u001b[1;33m:\u001b[0m\u001b[1;33m\u001b[0m\u001b[1;33m\u001b[0m\u001b[0m\n\u001b[0;32m    200\u001b[0m         \u001b[0mM\u001b[0m \u001b[1;33m=\u001b[0m \u001b[0mN\u001b[0m\u001b[1;33m\u001b[0m\u001b[1;33m\u001b[0m\u001b[0m\n\u001b[1;32m--> 201\u001b[1;33m     \u001b[0mm\u001b[0m \u001b[1;33m=\u001b[0m \u001b[0mzeros\u001b[0m\u001b[1;33m(\u001b[0m\u001b[1;33m(\u001b[0m\u001b[0mN\u001b[0m\u001b[1;33m,\u001b[0m \u001b[0mM\u001b[0m\u001b[1;33m)\u001b[0m\u001b[1;33m,\u001b[0m \u001b[0mdtype\u001b[0m\u001b[1;33m=\u001b[0m\u001b[0mdtype\u001b[0m\u001b[1;33m,\u001b[0m \u001b[0morder\u001b[0m\u001b[1;33m=\u001b[0m\u001b[0morder\u001b[0m\u001b[1;33m)\u001b[0m\u001b[1;33m\u001b[0m\u001b[1;33m\u001b[0m\u001b[0m\n\u001b[0m\u001b[0;32m    202\u001b[0m     \u001b[1;32mif\u001b[0m \u001b[0mk\u001b[0m \u001b[1;33m>=\u001b[0m \u001b[0mM\u001b[0m\u001b[1;33m:\u001b[0m\u001b[1;33m\u001b[0m\u001b[1;33m\u001b[0m\u001b[0m\n\u001b[0;32m    203\u001b[0m         \u001b[1;32mreturn\u001b[0m \u001b[0mm\u001b[0m\u001b[1;33m\u001b[0m\u001b[1;33m\u001b[0m\u001b[0m\n",
      "\u001b[1;31mMemoryError\u001b[0m: "
     ]
    }
   ],
   "source": [
    "xs = np.ones(3000)\n",
    "%time gauss_newton_gmres(5000,3000,xs,max_it=10)"
   ]
  },
  {
   "cell_type": "code",
   "execution_count": null,
   "metadata": {},
   "outputs": [],
   "source": []
  },
  {
   "cell_type": "markdown",
   "metadata": {},
   "source": [
    "4. Comente a partir de los resultados obtenidos."
   ]
  },
  {
   "cell_type": "code",
   "execution_count": null,
   "metadata": {},
   "outputs": [],
   "source": [
    "x3"
   ]
  },
  {
   "cell_type": "markdown",
   "metadata": {},
   "source": [
    "## Sección 2 (35 puntos)\n",
    "\n",
    "La matriz Jacobiana asociada al sistema de ecuaciones entregado posee la propiedad de que es *sparse*, por lo tanto es posible ahorrar almacenamiento y cómputo utilizando una estructura de datos adecuada. \n",
    "\n",
    "1. Modifique su implementación de cálculo de la matriz Jacobiana para que utilice una estructura de datos para matrices *sparse* [1].\n",
    "\n",
    "2. Considere 35000 ecuaciones y 25000 incógnitas. Comente y justifique la factibilidad o infactibilidad de resolver ese problema mediante PALU.\n",
    "\n",
    "3. Considere 35000 ecuaciones y 25000 incógnitas. Resuelva el problema mediante Gauss-Newton, resolviendo el sistema de ecuaciones lineales mediante GMRes, considerando matrices Jacobianas del tipo *sparse*. Considere un parámetro $\\lambda = 0.0001$. Puede utilizar la implementación de GMRes de Scipy."
   ]
  },
  {
   "cell_type": "code",
   "execution_count": 12,
   "metadata": {},
   "outputs": [],
   "source": [
    "'''\n",
    "Input: \n",
    "m - Number of equations of F\n",
    "n - Number of variables\n",
    "x - (array) Vector of dimension n\n",
    "Output:\n",
    "Jx - (double-array) Vector x evaluated in jacobian matrix of F. Its dimension is mxn sparse \n",
    "'''\n",
    "def evaluate_jacobian_sparse(m,n,x):\n",
    "    Jx_sparse = lil_matrix((m, n), dtype=np.int8)\n",
    "    if(n<=2): return Jx_sparse\n",
    "    \n",
    "    for i in range(0,m):\n",
    "        j = i%n\n",
    "        k = (i+1)%n\n",
    "        w = (i+2)%n\n",
    "        #print(\"j:{},k:{},w:{}\".format(j,k,w))\n",
    "        elem_j = partial_xj(x[j],j,n)\n",
    "        elem_k = partial_xk(x[k],n)\n",
    "        elem_w = partial_xw(x[w],n)\n",
    "        Jx_sparse[i,j] = elem_j\n",
    "        Jx_sparse[i,k] = elem_k\n",
    "        Jx_sparse[i,w] = elem_w\n",
    "        \n",
    "    return Jx_sparse"
   ]
  },
  {
   "cell_type": "markdown",
   "metadata": {},
   "source": [
    "### Comentario factibilidad de resolver sistema mediante PALU"
   ]
  },
  {
   "cell_type": "markdown",
   "metadata": {},
   "source": [
    "Si utilizamos la tradicional forma de guardar las matrices, entonces PALU necesita de mucho espacio, si lo detallamos notamos lo siguiente:\n",
    "\n",
    "- Matriz P: tamaño $nxn$\n",
    "- Matriz L: tamaño $nxn$\n",
    "- Matriz U: tamaño $nxn$\n",
    "- Matriz A: tamaño $nxn$\n",
    "\n",
    "Por lo que si tenemos una matriz $A$ de $(35000x25000)$, tenemos esta cantidad de elementos en memoria:\n",
    "\n",
    "$$3*(35000x35000) + (35000x25000)$$ \n",
    "\n",
    "Si usamos un sistema operativo en el cual un número o elemento ocupa $8 (bytes)$ entonces tenemos :\n",
    "\n",
    "$$(8*(35000)*(25000) + 8*3*(35000)*(35000)) (bytes)$$\n",
    "\n",
    "Obteniendo un total de: \n",
    "\n",
    "$$ 2,57x10^{19} (bytes) == 2,57x10^{10} (GB) $$\n",
    "\n",
    "Lo anterior es infactible ya que no existe computador con una memoria RAM con esa cantidad de espacio. \n",
    "\n",
    "Por otro lado, analizaremos la cantidad de operaciones elementales al querer solucionar el sistema de ecuaciones mediante la descomposición PA=LU"
   ]
  },
  {
   "cell_type": "code",
   "execution_count": 9,
   "metadata": {},
   "outputs": [],
   "source": [
    "'''\n",
    "Input: \n",
    "m - Number of equations of F\n",
    "n - Number of variables\n",
    "x0 - Initial guess\n",
    "tol - Tolerance of root mean square error in order to return gauss-newton solution\n",
    "max_it - Max. number of iterations\n",
    "Output:\n",
    "xk - (array) Solution vector of gauss-newton. Its dimension is n\n",
    "'''\n",
    "def gauss_newton_gmres_sparse(m, n, x0, lamb=0.0001, tol=1e-5, max_it=10):\n",
    "    xk = x0\n",
    "    \n",
    "    lambda_xk = np.zeros(n) #incognita\n",
    "    \n",
    "    for i in range(max_it):\n",
    "        #calculate G(xk)\n",
    "        g = make_G(m,n,xk)\n",
    "        Jg = evaluate_jacobian_sparse(m,n,xk)\n",
    "        \n",
    "        left_eq = ((Jg.T).dot(Jg) + (identity(n).dot(lamb)))\n",
    "#         print(left_eq)\n",
    "        right_eq = (Jg.T).dot(g)\n",
    "#         print(right_eq)\n",
    "        lambda_xk,_ = gmres(left_eq,right_eq)\n",
    "        #calculate lambda_xk from Jf-1Jf...\n",
    "        xk_plus1 = xk - lambda_xk\n",
    "#         if(xk_plus1 - xk <= tol):\n",
    "#             break\n",
    "        xk = xk_plus1\n",
    "    \n",
    "    return xk"
   ]
  },
  {
   "cell_type": "code",
   "execution_count": 20,
   "metadata": {},
   "outputs": [
    {
     "ename": "KeyboardInterrupt",
     "evalue": "",
     "output_type": "error",
     "traceback": [
      "\u001b[1;31m---------------------------------------------------------------------------\u001b[0m",
      "\u001b[1;31mKeyboardInterrupt\u001b[0m                         Traceback (most recent call last)",
      "\u001b[1;32m<timed exec>\u001b[0m in \u001b[0;36m<module>\u001b[1;34m\u001b[0m\n",
      "\u001b[1;32m<ipython-input-9-ba17fccba3d7>\u001b[0m in \u001b[0;36mgauss_newton_gmres_sparse\u001b[1;34m(m, n, x0, lamb, tol, max_it)\u001b[0m\n\u001b[0;32m     23\u001b[0m         \u001b[0mright_eq\u001b[0m \u001b[1;33m=\u001b[0m \u001b[1;33m(\u001b[0m\u001b[0mJg\u001b[0m\u001b[1;33m.\u001b[0m\u001b[0mT\u001b[0m\u001b[1;33m)\u001b[0m\u001b[1;33m.\u001b[0m\u001b[0mdot\u001b[0m\u001b[1;33m(\u001b[0m\u001b[0mg\u001b[0m\u001b[1;33m)\u001b[0m\u001b[1;33m\u001b[0m\u001b[1;33m\u001b[0m\u001b[0m\n\u001b[0;32m     24\u001b[0m \u001b[1;31m#         print(right_eq)\u001b[0m\u001b[1;33m\u001b[0m\u001b[1;33m\u001b[0m\u001b[1;33m\u001b[0m\u001b[0m\n\u001b[1;32m---> 25\u001b[1;33m         \u001b[0mlambda_xk\u001b[0m\u001b[1;33m,\u001b[0m\u001b[0m_\u001b[0m \u001b[1;33m=\u001b[0m \u001b[0mgmres\u001b[0m\u001b[1;33m(\u001b[0m\u001b[0mleft_eq\u001b[0m\u001b[1;33m,\u001b[0m\u001b[0mright_eq\u001b[0m\u001b[1;33m)\u001b[0m\u001b[1;33m\u001b[0m\u001b[1;33m\u001b[0m\u001b[0m\n\u001b[0m\u001b[0;32m     26\u001b[0m         \u001b[1;31m#calculate lambda_xk from Jf-1Jf...\u001b[0m\u001b[1;33m\u001b[0m\u001b[1;33m\u001b[0m\u001b[1;33m\u001b[0m\u001b[0m\n\u001b[0;32m     27\u001b[0m         \u001b[0mxk_plus1\u001b[0m \u001b[1;33m=\u001b[0m \u001b[0mxk\u001b[0m \u001b[1;33m-\u001b[0m \u001b[0mlambda_xk\u001b[0m\u001b[1;33m\u001b[0m\u001b[1;33m\u001b[0m\u001b[0m\n",
      "\u001b[1;32m~\\AppData\\Local\\Programs\\Python\\Python37-32\\lib\\site-packages\\scipy\\sparse\\linalg\\isolve\\iterative.py\u001b[0m in \u001b[0;36mgmres\u001b[1;34m(A, b, x0, tol, restart, maxiter, M, callback, restrt, atol)\u001b[0m\n",
      "\u001b[1;32m~\\AppData\\Local\\Programs\\Python\\Python37-32\\lib\\site-packages\\scipy\\_lib\\_threadsafety.py\u001b[0m in \u001b[0;36mcaller\u001b[1;34m(func, *a, **kw)\u001b[0m\n\u001b[0;32m     44\u001b[0m         \u001b[1;32mdef\u001b[0m \u001b[0mcaller\u001b[0m\u001b[1;33m(\u001b[0m\u001b[0mfunc\u001b[0m\u001b[1;33m,\u001b[0m \u001b[1;33m*\u001b[0m\u001b[0ma\u001b[0m\u001b[1;33m,\u001b[0m \u001b[1;33m**\u001b[0m\u001b[0mkw\u001b[0m\u001b[1;33m)\u001b[0m\u001b[1;33m:\u001b[0m\u001b[1;33m\u001b[0m\u001b[1;33m\u001b[0m\u001b[0m\n\u001b[0;32m     45\u001b[0m             \u001b[1;32mwith\u001b[0m \u001b[0mself\u001b[0m\u001b[1;33m:\u001b[0m\u001b[1;33m\u001b[0m\u001b[1;33m\u001b[0m\u001b[0m\n\u001b[1;32m---> 46\u001b[1;33m                 \u001b[1;32mreturn\u001b[0m \u001b[0mfunc\u001b[0m\u001b[1;33m(\u001b[0m\u001b[1;33m*\u001b[0m\u001b[0ma\u001b[0m\u001b[1;33m,\u001b[0m \u001b[1;33m**\u001b[0m\u001b[0mkw\u001b[0m\u001b[1;33m)\u001b[0m\u001b[1;33m\u001b[0m\u001b[1;33m\u001b[0m\u001b[0m\n\u001b[0m\u001b[0;32m     47\u001b[0m         \u001b[1;32mreturn\u001b[0m \u001b[0mscipy\u001b[0m\u001b[1;33m.\u001b[0m\u001b[0m_lib\u001b[0m\u001b[1;33m.\u001b[0m\u001b[0mdecorator\u001b[0m\u001b[1;33m.\u001b[0m\u001b[0mdecorate\u001b[0m\u001b[1;33m(\u001b[0m\u001b[0mfunc\u001b[0m\u001b[1;33m,\u001b[0m \u001b[0mcaller\u001b[0m\u001b[1;33m)\u001b[0m\u001b[1;33m\u001b[0m\u001b[1;33m\u001b[0m\u001b[0m\n\u001b[0;32m     48\u001b[0m \u001b[1;33m\u001b[0m\u001b[0m\n",
      "\u001b[1;32m~\\AppData\\Local\\Programs\\Python\\Python37-32\\lib\\site-packages\\scipy\\sparse\\linalg\\isolve\\iterative.py\u001b[0m in \u001b[0;36mgmres\u001b[1;34m(A, b, x0, tol, restart, maxiter, M, callback, restrt, atol)\u001b[0m\n\u001b[0;32m    562\u001b[0m         \u001b[1;32melif\u001b[0m \u001b[1;33m(\u001b[0m\u001b[0mijob\u001b[0m \u001b[1;33m==\u001b[0m \u001b[1;36m3\u001b[0m\u001b[1;33m)\u001b[0m\u001b[1;33m:\u001b[0m\u001b[1;33m\u001b[0m\u001b[1;33m\u001b[0m\u001b[0m\n\u001b[0;32m    563\u001b[0m             \u001b[0mwork\u001b[0m\u001b[1;33m[\u001b[0m\u001b[0mslice2\u001b[0m\u001b[1;33m]\u001b[0m \u001b[1;33m*=\u001b[0m \u001b[0msclr2\u001b[0m\u001b[1;33m\u001b[0m\u001b[1;33m\u001b[0m\u001b[0m\n\u001b[1;32m--> 564\u001b[1;33m             \u001b[0mwork\u001b[0m\u001b[1;33m[\u001b[0m\u001b[0mslice2\u001b[0m\u001b[1;33m]\u001b[0m \u001b[1;33m+=\u001b[0m \u001b[0msclr1\u001b[0m\u001b[1;33m*\u001b[0m\u001b[0mmatvec\u001b[0m\u001b[1;33m(\u001b[0m\u001b[0mwork\u001b[0m\u001b[1;33m[\u001b[0m\u001b[0mslice1\u001b[0m\u001b[1;33m]\u001b[0m\u001b[1;33m)\u001b[0m\u001b[1;33m\u001b[0m\u001b[1;33m\u001b[0m\u001b[0m\n\u001b[0m\u001b[0;32m    565\u001b[0m             \u001b[1;32mif\u001b[0m \u001b[0mresid_ready\u001b[0m \u001b[1;32mand\u001b[0m \u001b[0mcallback\u001b[0m \u001b[1;32mis\u001b[0m \u001b[1;32mnot\u001b[0m \u001b[1;32mNone\u001b[0m\u001b[1;33m:\u001b[0m\u001b[1;33m\u001b[0m\u001b[1;33m\u001b[0m\u001b[0m\n\u001b[0;32m    566\u001b[0m                 \u001b[0mcallback\u001b[0m\u001b[1;33m(\u001b[0m\u001b[0mpresid\u001b[0m \u001b[1;33m/\u001b[0m \u001b[0mbnrm2\u001b[0m\u001b[1;33m)\u001b[0m\u001b[1;33m\u001b[0m\u001b[1;33m\u001b[0m\u001b[0m\n",
      "\u001b[1;32m~\\AppData\\Local\\Programs\\Python\\Python37-32\\lib\\site-packages\\scipy\\sparse\\linalg\\interface.py\u001b[0m in \u001b[0;36mmatvec\u001b[1;34m(self, x)\u001b[0m\n\u001b[0;32m    220\u001b[0m             \u001b[1;32mraise\u001b[0m \u001b[0mValueError\u001b[0m\u001b[1;33m(\u001b[0m\u001b[1;34m'dimension mismatch'\u001b[0m\u001b[1;33m)\u001b[0m\u001b[1;33m\u001b[0m\u001b[1;33m\u001b[0m\u001b[0m\n\u001b[0;32m    221\u001b[0m \u001b[1;33m\u001b[0m\u001b[0m\n\u001b[1;32m--> 222\u001b[1;33m         \u001b[0my\u001b[0m \u001b[1;33m=\u001b[0m \u001b[0mself\u001b[0m\u001b[1;33m.\u001b[0m\u001b[0m_matvec\u001b[0m\u001b[1;33m(\u001b[0m\u001b[0mx\u001b[0m\u001b[1;33m)\u001b[0m\u001b[1;33m\u001b[0m\u001b[1;33m\u001b[0m\u001b[0m\n\u001b[0m\u001b[0;32m    223\u001b[0m \u001b[1;33m\u001b[0m\u001b[0m\n\u001b[0;32m    224\u001b[0m         \u001b[1;32mif\u001b[0m \u001b[0misinstance\u001b[0m\u001b[1;33m(\u001b[0m\u001b[0mx\u001b[0m\u001b[1;33m,\u001b[0m \u001b[0mnp\u001b[0m\u001b[1;33m.\u001b[0m\u001b[0mmatrix\u001b[0m\u001b[1;33m)\u001b[0m\u001b[1;33m:\u001b[0m\u001b[1;33m\u001b[0m\u001b[1;33m\u001b[0m\u001b[0m\n",
      "\u001b[1;32m~\\AppData\\Local\\Programs\\Python\\Python37-32\\lib\\site-packages\\scipy\\sparse\\linalg\\interface.py\u001b[0m in \u001b[0;36m_matvec\u001b[1;34m(self, x)\u001b[0m\n\u001b[0;32m    187\u001b[0m         \u001b[0mwill\u001b[0m \u001b[0mdefine\u001b[0m \u001b[0mmatrix\u001b[0m\u001b[1;33m-\u001b[0m\u001b[0mvector\u001b[0m \u001b[0mmultiplication\u001b[0m \u001b[1;32mas\u001b[0m \u001b[0mwell\u001b[0m\u001b[1;33m.\u001b[0m\u001b[1;33m\u001b[0m\u001b[1;33m\u001b[0m\u001b[0m\n\u001b[0;32m    188\u001b[0m         \"\"\"\n\u001b[1;32m--> 189\u001b[1;33m         \u001b[1;32mreturn\u001b[0m \u001b[0mself\u001b[0m\u001b[1;33m.\u001b[0m\u001b[0mmatmat\u001b[0m\u001b[1;33m(\u001b[0m\u001b[0mx\u001b[0m\u001b[1;33m.\u001b[0m\u001b[0mreshape\u001b[0m\u001b[1;33m(\u001b[0m\u001b[1;33m-\u001b[0m\u001b[1;36m1\u001b[0m\u001b[1;33m,\u001b[0m \u001b[1;36m1\u001b[0m\u001b[1;33m)\u001b[0m\u001b[1;33m)\u001b[0m\u001b[1;33m\u001b[0m\u001b[1;33m\u001b[0m\u001b[0m\n\u001b[0m\u001b[0;32m    190\u001b[0m \u001b[1;33m\u001b[0m\u001b[0m\n\u001b[0;32m    191\u001b[0m     \u001b[1;32mdef\u001b[0m \u001b[0mmatvec\u001b[0m\u001b[1;33m(\u001b[0m\u001b[0mself\u001b[0m\u001b[1;33m,\u001b[0m \u001b[0mx\u001b[0m\u001b[1;33m)\u001b[0m\u001b[1;33m:\u001b[0m\u001b[1;33m\u001b[0m\u001b[1;33m\u001b[0m\u001b[0m\n",
      "\u001b[1;32m~\\AppData\\Local\\Programs\\Python\\Python37-32\\lib\\site-packages\\scipy\\sparse\\linalg\\interface.py\u001b[0m in \u001b[0;36mmatmat\u001b[1;34m(self, X)\u001b[0m\n\u001b[0;32m    327\u001b[0m                              % (self.shape, X.shape))\n\u001b[0;32m    328\u001b[0m \u001b[1;33m\u001b[0m\u001b[0m\n\u001b[1;32m--> 329\u001b[1;33m         \u001b[0mY\u001b[0m \u001b[1;33m=\u001b[0m \u001b[0mself\u001b[0m\u001b[1;33m.\u001b[0m\u001b[0m_matmat\u001b[0m\u001b[1;33m(\u001b[0m\u001b[0mX\u001b[0m\u001b[1;33m)\u001b[0m\u001b[1;33m\u001b[0m\u001b[1;33m\u001b[0m\u001b[0m\n\u001b[0m\u001b[0;32m    330\u001b[0m \u001b[1;33m\u001b[0m\u001b[0m\n\u001b[0;32m    331\u001b[0m         \u001b[1;32mif\u001b[0m \u001b[0misinstance\u001b[0m\u001b[1;33m(\u001b[0m\u001b[0mY\u001b[0m\u001b[1;33m,\u001b[0m \u001b[0mnp\u001b[0m\u001b[1;33m.\u001b[0m\u001b[0mmatrix\u001b[0m\u001b[1;33m)\u001b[0m\u001b[1;33m:\u001b[0m\u001b[1;33m\u001b[0m\u001b[1;33m\u001b[0m\u001b[0m\n",
      "\u001b[1;32m~\\AppData\\Local\\Programs\\Python\\Python37-32\\lib\\site-packages\\scipy\\sparse\\linalg\\interface.py\u001b[0m in \u001b[0;36m_matmat\u001b[1;34m(self, X)\u001b[0m\n\u001b[0;32m    611\u001b[0m \u001b[1;33m\u001b[0m\u001b[0m\n\u001b[0;32m    612\u001b[0m     \u001b[1;32mdef\u001b[0m \u001b[0m_matmat\u001b[0m\u001b[1;33m(\u001b[0m\u001b[0mself\u001b[0m\u001b[1;33m,\u001b[0m \u001b[0mX\u001b[0m\u001b[1;33m)\u001b[0m\u001b[1;33m:\u001b[0m\u001b[1;33m\u001b[0m\u001b[1;33m\u001b[0m\u001b[0m\n\u001b[1;32m--> 613\u001b[1;33m         \u001b[1;32mreturn\u001b[0m \u001b[0mself\u001b[0m\u001b[1;33m.\u001b[0m\u001b[0mA\u001b[0m\u001b[1;33m.\u001b[0m\u001b[0mdot\u001b[0m\u001b[1;33m(\u001b[0m\u001b[0mX\u001b[0m\u001b[1;33m)\u001b[0m\u001b[1;33m\u001b[0m\u001b[1;33m\u001b[0m\u001b[0m\n\u001b[0m\u001b[0;32m    614\u001b[0m \u001b[1;33m\u001b[0m\u001b[0m\n\u001b[0;32m    615\u001b[0m     \u001b[1;32mdef\u001b[0m \u001b[0m_adjoint\u001b[0m\u001b[1;33m(\u001b[0m\u001b[0mself\u001b[0m\u001b[1;33m)\u001b[0m\u001b[1;33m:\u001b[0m\u001b[1;33m\u001b[0m\u001b[1;33m\u001b[0m\u001b[0m\n",
      "\u001b[1;32m~\\AppData\\Local\\Programs\\Python\\Python37-32\\lib\\site-packages\\scipy\\sparse\\base.py\u001b[0m in \u001b[0;36mdot\u001b[1;34m(self, other)\u001b[0m\n\u001b[0;32m    362\u001b[0m \u001b[1;33m\u001b[0m\u001b[0m\n\u001b[0;32m    363\u001b[0m         \"\"\"\n\u001b[1;32m--> 364\u001b[1;33m         \u001b[1;32mreturn\u001b[0m \u001b[0mself\u001b[0m \u001b[1;33m*\u001b[0m \u001b[0mother\u001b[0m\u001b[1;33m\u001b[0m\u001b[1;33m\u001b[0m\u001b[0m\n\u001b[0m\u001b[0;32m    365\u001b[0m \u001b[1;33m\u001b[0m\u001b[0m\n\u001b[0;32m    366\u001b[0m     \u001b[1;32mdef\u001b[0m \u001b[0mpower\u001b[0m\u001b[1;33m(\u001b[0m\u001b[0mself\u001b[0m\u001b[1;33m,\u001b[0m \u001b[0mn\u001b[0m\u001b[1;33m,\u001b[0m \u001b[0mdtype\u001b[0m\u001b[1;33m=\u001b[0m\u001b[1;32mNone\u001b[0m\u001b[1;33m)\u001b[0m\u001b[1;33m:\u001b[0m\u001b[1;33m\u001b[0m\u001b[1;33m\u001b[0m\u001b[0m\n",
      "\u001b[1;32m~\\AppData\\Local\\Programs\\Python\\Python37-32\\lib\\site-packages\\scipy\\sparse\\base.py\u001b[0m in \u001b[0;36m__mul__\u001b[1;34m(self, other)\u001b[0m\n\u001b[0;32m    469\u001b[0m                 \u001b[1;32mreturn\u001b[0m \u001b[0mself\u001b[0m\u001b[1;33m.\u001b[0m\u001b[0m_mul_vector\u001b[0m\u001b[1;33m(\u001b[0m\u001b[0mother\u001b[0m\u001b[1;33m)\u001b[0m\u001b[1;33m\u001b[0m\u001b[1;33m\u001b[0m\u001b[0m\n\u001b[0;32m    470\u001b[0m             \u001b[1;32melif\u001b[0m \u001b[0mother\u001b[0m\u001b[1;33m.\u001b[0m\u001b[0mshape\u001b[0m \u001b[1;33m==\u001b[0m \u001b[1;33m(\u001b[0m\u001b[0mN\u001b[0m\u001b[1;33m,\u001b[0m \u001b[1;36m1\u001b[0m\u001b[1;33m)\u001b[0m\u001b[1;33m:\u001b[0m\u001b[1;33m\u001b[0m\u001b[1;33m\u001b[0m\u001b[0m\n\u001b[1;32m--> 471\u001b[1;33m                 \u001b[1;32mreturn\u001b[0m \u001b[0mself\u001b[0m\u001b[1;33m.\u001b[0m\u001b[0m_mul_vector\u001b[0m\u001b[1;33m(\u001b[0m\u001b[0mother\u001b[0m\u001b[1;33m.\u001b[0m\u001b[0mravel\u001b[0m\u001b[1;33m(\u001b[0m\u001b[1;33m)\u001b[0m\u001b[1;33m)\u001b[0m\u001b[1;33m.\u001b[0m\u001b[0mreshape\u001b[0m\u001b[1;33m(\u001b[0m\u001b[0mM\u001b[0m\u001b[1;33m,\u001b[0m \u001b[1;36m1\u001b[0m\u001b[1;33m)\u001b[0m\u001b[1;33m\u001b[0m\u001b[1;33m\u001b[0m\u001b[0m\n\u001b[0m\u001b[0;32m    472\u001b[0m             \u001b[1;32melif\u001b[0m \u001b[0mother\u001b[0m\u001b[1;33m.\u001b[0m\u001b[0mndim\u001b[0m \u001b[1;33m==\u001b[0m \u001b[1;36m2\u001b[0m \u001b[1;32mand\u001b[0m \u001b[0mother\u001b[0m\u001b[1;33m.\u001b[0m\u001b[0mshape\u001b[0m\u001b[1;33m[\u001b[0m\u001b[1;36m0\u001b[0m\u001b[1;33m]\u001b[0m \u001b[1;33m==\u001b[0m \u001b[0mN\u001b[0m\u001b[1;33m:\u001b[0m\u001b[1;33m\u001b[0m\u001b[1;33m\u001b[0m\u001b[0m\n\u001b[0;32m    473\u001b[0m                 \u001b[1;32mreturn\u001b[0m \u001b[0mself\u001b[0m\u001b[1;33m.\u001b[0m\u001b[0m_mul_multivector\u001b[0m\u001b[1;33m(\u001b[0m\u001b[0mother\u001b[0m\u001b[1;33m)\u001b[0m\u001b[1;33m\u001b[0m\u001b[1;33m\u001b[0m\u001b[0m\n",
      "\u001b[1;32m~\\AppData\\Local\\Programs\\Python\\Python37-32\\lib\\site-packages\\scipy\\sparse\\compressed.py\u001b[0m in \u001b[0;36m_mul_vector\u001b[1;34m(self, other)\u001b[0m\n\u001b[0;32m    466\u001b[0m         \u001b[1;31m# csr_matvec or csc_matvec\u001b[0m\u001b[1;33m\u001b[0m\u001b[1;33m\u001b[0m\u001b[1;33m\u001b[0m\u001b[0m\n\u001b[0;32m    467\u001b[0m         \u001b[0mfn\u001b[0m \u001b[1;33m=\u001b[0m \u001b[0mgetattr\u001b[0m\u001b[1;33m(\u001b[0m\u001b[0m_sparsetools\u001b[0m\u001b[1;33m,\u001b[0m \u001b[0mself\u001b[0m\u001b[1;33m.\u001b[0m\u001b[0mformat\u001b[0m \u001b[1;33m+\u001b[0m \u001b[1;34m'_matvec'\u001b[0m\u001b[1;33m)\u001b[0m\u001b[1;33m\u001b[0m\u001b[1;33m\u001b[0m\u001b[0m\n\u001b[1;32m--> 468\u001b[1;33m         \u001b[0mfn\u001b[0m\u001b[1;33m(\u001b[0m\u001b[0mM\u001b[0m\u001b[1;33m,\u001b[0m \u001b[0mN\u001b[0m\u001b[1;33m,\u001b[0m \u001b[0mself\u001b[0m\u001b[1;33m.\u001b[0m\u001b[0mindptr\u001b[0m\u001b[1;33m,\u001b[0m \u001b[0mself\u001b[0m\u001b[1;33m.\u001b[0m\u001b[0mindices\u001b[0m\u001b[1;33m,\u001b[0m \u001b[0mself\u001b[0m\u001b[1;33m.\u001b[0m\u001b[0mdata\u001b[0m\u001b[1;33m,\u001b[0m \u001b[0mother\u001b[0m\u001b[1;33m,\u001b[0m \u001b[0mresult\u001b[0m\u001b[1;33m)\u001b[0m\u001b[1;33m\u001b[0m\u001b[1;33m\u001b[0m\u001b[0m\n\u001b[0m\u001b[0;32m    469\u001b[0m \u001b[1;33m\u001b[0m\u001b[0m\n\u001b[0;32m    470\u001b[0m         \u001b[1;32mreturn\u001b[0m \u001b[0mresult\u001b[0m\u001b[1;33m\u001b[0m\u001b[1;33m\u001b[0m\u001b[0m\n",
      "\u001b[1;31mKeyboardInterrupt\u001b[0m: "
     ]
    }
   ],
   "source": [
    "x0 = np.ones(3000)\n",
    "%time xk = gauss_newton_gmres_sparse(5000,3000,x0)"
   ]
  },
  {
   "cell_type": "code",
   "execution_count": 11,
   "metadata": {},
   "outputs": [
    {
     "data": {
      "text/plain": [
       "array([-2.03236484e+04, -2.16846721e+04, -2.69330351e+03, -3.65899655e+04,\n",
       "       -1.26702771e+04, -1.82189705e+04, -1.75156996e+04,  1.13558075e+04,\n",
       "       -1.18930386e+04, -5.65851071e+03, -2.11444148e+04, -1.91217472e+03,\n",
       "        5.73481874e+03, -5.15458982e+04,  2.40331504e+04, -1.72329887e+04,\n",
       "        8.23730161e+04, -1.69854585e+04,  4.44896916e+04, -8.06828928e+03,\n",
       "       -3.83585363e+03, -9.99833741e+03, -1.94903866e+04,  2.11757168e+04,\n",
       "        7.27320359e+03, -5.78674001e+03, -1.03700949e+04,  2.20489999e+04,\n",
       "        1.51448154e+03, -3.84282797e+03,  9.34014703e+03,  7.63020745e+03,\n",
       "        9.47871821e+02,  1.12196276e+04,  5.11575602e+04, -5.66254502e+04,\n",
       "        6.64040344e+04, -3.16214932e+04, -5.69389426e+04, -1.28911081e+04,\n",
       "        3.04342582e+04,  4.47569202e+04, -3.11560590e+04, -3.05020021e+04,\n",
       "       -4.91403904e+04, -3.01600854e+04,  6.48617852e+03, -6.98483446e+04,\n",
       "        2.70166624e+04,  3.66191734e+04,  3.21927087e+03,  3.14832052e+04,\n",
       "        1.23818546e+04,  2.45820802e+04, -3.25911318e+04,  2.63151567e+04,\n",
       "       -8.31647427e+02,  8.49412257e+03, -9.05457781e+03,  7.34817842e+02,\n",
       "       -6.67820900e+03, -1.24977433e+04,  6.23473843e+03,  5.20963622e+03,\n",
       "       -4.77171588e+04, -8.44944697e+04,  6.41621850e+04,  6.54861990e+03,\n",
       "        6.58133784e+04, -6.32676829e+04,  2.76693723e+03, -1.35392235e+04,\n",
       "        1.23665607e+04,  5.73334757e+03, -3.00384551e+03, -7.15172086e+03,\n",
       "       -1.70117025e+04,  4.51805904e+03,  6.99050032e+03,  5.36320875e+03,\n",
       "       -1.17932474e+03,  2.80285043e+04, -4.39848691e+04,  1.42863255e+04,\n",
       "        2.26732861e+04,  4.11373505e+04,  1.46622245e+04, -4.68713450e+03,\n",
       "        1.33980498e+05,  8.12399056e+04, -4.91310356e+03,  4.57862936e+04,\n",
       "        1.04272134e+04,  4.80278652e+02,  1.27500588e+05, -1.84498551e+05,\n",
       "       -1.09048556e+05, -1.77251722e+05,  3.22020595e+05,  9.44978726e+04,\n",
       "       -1.04201379e+05, -1.99580654e+05,  2.38175455e+05,  1.51412351e+05,\n",
       "       -4.07188915e+04,  8.91061294e+03,  4.74461792e+04, -1.58168260e+04,\n",
       "        1.35206431e+04,  3.19576418e+01,  2.02301700e+04,  1.10849194e+04,\n",
       "       -5.26247088e+03,  1.56486945e+04, -8.64759372e+03,  2.27066151e+04,\n",
       "        6.48600443e+03, -1.54885655e+04,  8.17593301e+03,  1.23927648e+04,\n",
       "        5.64924551e+03, -1.20774144e+04, -1.42469884e+04, -1.02924125e+03,\n",
       "       -3.94504345e+03,  3.62810220e+03, -9.36033138e+02,  5.33693530e+02,\n",
       "        2.94164112e+03,  1.81649908e+03,  1.17649605e+03, -1.44528953e+03,\n",
       "       -8.97310090e+02,  6.21144835e+03,  3.14127875e+03,  7.31233555e+03,\n",
       "       -6.01648799e+03, -7.76168818e+03,  1.00841642e+04, -6.39645758e+02,\n",
       "        1.61801453e+03,  1.94820756e+04,  4.25587778e+03,  5.73164505e+02,\n",
       "       -7.35731496e+03, -1.06560308e+04,  1.79165402e+04, -1.90617640e+04,\n",
       "        1.15526894e+04,  5.79606654e+02,  2.42638881e+04, -5.34063538e+03,\n",
       "       -5.43965983e+03,  5.23222403e+03, -1.49302047e+04,  1.98859932e+04,\n",
       "       -3.15473349e+04,  2.90061416e+04,  8.91245618e+03,  8.68533195e+03,\n",
       "       -1.78412514e+04, -1.17308586e+03, -3.85293429e+03,  4.21842106e+03,\n",
       "        6.97439409e+03,  1.23382955e+03,  5.70593008e+04, -6.53874543e+03,\n",
       "       -5.46898405e+04,  6.05809632e+04,  4.09922613e+04, -7.81652861e+04,\n",
       "        2.10353874e+05, -1.01832941e+05,  1.06200583e+05, -7.34924200e+04,\n",
       "        6.72559226e+04, -4.39672078e+03,  5.35045448e+04, -4.47738325e+04,\n",
       "       -3.94586546e+04, -2.91935381e+04,  3.13677212e+04,  2.25475732e+04,\n",
       "        7.92868362e+03, -1.24800387e+04, -1.41347956e+04,  1.70752603e+03,\n",
       "        2.54624879e+04,  8.11615329e+02,  8.50090582e+03,  6.37023172e+03,\n",
       "       -8.74346210e+02, -3.44633890e+03, -4.64918341e+02,  3.66988332e+03,\n",
       "       -2.44963837e+03,  2.52051657e+03,  5.22557854e+02,  9.17720162e+03,\n",
       "        9.10725330e+02, -1.89421315e+03,  5.77486618e+03, -5.09362547e+03,\n",
       "       -2.93625334e+03, -2.13631315e+03,  2.28978786e+03, -1.46155643e+04,\n",
       "        5.13758228e+03, -5.23978268e+02,  1.34789371e+04,  6.86940684e+02,\n",
       "       -5.54954246e+02,  3.50110456e+03, -6.46030344e+03, -8.23141519e+03,\n",
       "       -1.24596129e+04,  9.90752790e+03, -1.74428887e+04,  1.69973208e+04,\n",
       "       -6.39851414e+03,  1.60512878e+04, -3.14228605e+04,  1.42971395e+04,\n",
       "        2.80013508e+04,  8.48394835e+03,  1.85411440e+04, -2.77651119e+04,\n",
       "        1.96883534e+04,  8.37725227e+03, -2.17810240e+04, -3.05904628e+03,\n",
       "        2.02917192e+03,  7.28841782e+04, -7.72111378e+04, -1.77678721e+05,\n",
       "        1.24847815e+04, -2.83630890e+04,  1.34738284e+05, -2.65134360e+03,\n",
       "       -3.03303306e+04,  3.62517016e+04, -3.98725276e+04, -4.83167653e+04,\n",
       "       -2.24260561e+05, -1.57540365e+04,  3.41779698e+04, -1.43123228e+05,\n",
       "        2.18661848e+04,  1.02254006e+05])"
      ]
     },
     "execution_count": 11,
     "metadata": {},
     "output_type": "execute_result"
    }
   ],
   "source": [
    "xk"
   ]
  },
  {
   "cell_type": "markdown",
   "metadata": {},
   "source": [
    "## Sección 3 (35 puntos)\n",
    "\n",
    "1. Modifique el *widget* adjunto para que grafique el residuo $\\lVert \\mathbf{F}(\\mathbf{x}_k) \\rVert_2$ obtenido en cada iteración de su implementación de Gauss-Newton, y ejecútelo para distintos valores de $\\lambda$, $m$ y $n$ . Comente sobre el efecto del parámetro de amortiguamiento al resolver el sistema de ecuaciones no lineales sobredeterminado."
   ]
  },
  {
   "cell_type": "code",
   "execution_count": null,
   "metadata": {},
   "outputs": [],
   "source": []
  },
  {
   "cell_type": "code",
   "execution_count": 34,
   "metadata": {},
   "outputs": [
    {
     "data": {
      "application/vnd.jupyter.widget-view+json": {
       "model_id": "464f0b0be827459796375baf6017b81d",
       "version_major": 2,
       "version_minor": 0
      },
      "text/plain": [
       "interactive(children=(FloatSlider(value=5.0, description='lamb', max=10.0, min=1e-05, step=1e-05), FloatText(v…"
      ]
     },
     "metadata": {},
     "output_type": "display_data"
    }
   ],
   "source": [
    "def plot_nonlin_residual(lamb, m, n, tol):\n",
    "    ## Solve the problem here using the given parameters\n",
    "    xs = np.linspace(0,100,1)\n",
    "    ys_palu = np.ones(int(n))\n",
    "    ys_gmres = np.ones(int(n))\n",
    "    res_palu = np.zeros(100)\n",
    "    res_gmres = np.zeros(100)\n",
    "    for i in range(0,100):\n",
    "        res_palu[i] = np.linalg.norm(make_G(int(m),int(n),ys_palu))\n",
    "        res_gmres[i] = np.linalg.norm(make_G(int(m),int(n),ys_gmres))\n",
    "        ys_palu = gauss_newton_palu(int(m),int(n),ys_palu,lamb=lamb,max_it=1)\n",
    "        ys_gmres = gauss_newton_gmres(int(m),int(n),ys_gmres,lamb=lamb,max_it=1)\n",
    "    plt.figure(figsize=(14, 7))\n",
    "    plt.semilogy(res_palu, '.')\n",
    "    plt.semilogy(res_gmres, '.')\n",
    "    plt.grid(True)\n",
    "    plt.show()\n",
    "\n",
    "interact(\n",
    "    plot_nonlin_residual, \n",
    "    lamb=(0.00001, 10, 0.00001),\n",
    "    m=widgets.FloatText(description=\"Num. Equations: \", value=35000),\n",
    "    n=widgets.FloatText(description=\"Num. Unknowns : \", value=25000),\n",
    "    tol=widgets.FloatText(description=\"Tolerance: \", value=1e-5)\n",
    ");"
   ]
  },
  {
   "cell_type": "markdown",
   "metadata": {},
   "source": [
    "2. Modifique el siguiente *widget* para que grafique los residuos obtenidos al resolver los distintos sistemas de ecuaciones lineales con GMRes, en su implementación de Gauss-Newton. Ejecute el algoritmo para distintos valores de $\\lambda$ y dimensiones, y comente al respecto."
   ]
  },
  {
   "cell_type": "code",
   "execution_count": 36,
   "metadata": {},
   "outputs": [
    {
     "data": {
      "application/vnd.jupyter.widget-view+json": {
       "model_id": "752cecb21f444cc8842e5712877ab081",
       "version_major": 2,
       "version_minor": 0
      },
      "text/plain": [
       "interactive(children=(FloatSlider(value=5.0, description='lamb', max=10.0, min=1e-05, step=1e-05), FloatText(v…"
      ]
     },
     "metadata": {},
     "output_type": "display_data"
    },
    {
     "data": {
      "text/plain": [
       "<Figure size 1008x504 with 0 Axes>"
      ]
     },
     "metadata": {},
     "output_type": "display_data"
    },
    {
     "data": {
      "text/plain": [
       "<Figure size 1008x504 with 0 Axes>"
      ]
     },
     "metadata": {},
     "output_type": "display_data"
    }
   ],
   "source": [
    "def plot_linear_residual(lamb, m, n, tol):\n",
    "    ## Solve the problem here using the given parameters\n",
    "    n_it = 30\n",
    "    plt.figure(figsize=(14, 7))\n",
    "    \n",
    "    ys_gmres = np.ones(int(n))\n",
    "    \n",
    "    for i in range(n_it):\n",
    "        res_gmres = make_G(int(m),int(n),ys_gmres)\n",
    "        ys_gmres = gauss_newton_gmres(int(m),int(n),ys_gmres,lamb=lamb,max_it=1)\n",
    "        plt.semilogy(res_gmres, '.')\n",
    "    plt.grid(True)\n",
    "    plt.show()\n",
    "\n",
    "interact(\n",
    "    plot_linear_residual, \n",
    "    lamb=(0.00001, 10, 0.00001),\n",
    "    m=widgets.FloatText(description=\"Num. Equations: \", value=35000),\n",
    "    n=widgets.FloatText(description=\"Num. Unknowns : \", value=25000),\n",
    "    tol=widgets.FloatText(description=\"Tolerance: \", value=1e-5)\n",
    ");"
   ]
  },
  {
   "cell_type": "markdown",
   "metadata": {},
   "source": [
    "---\n",
    "# Instrucciones:\n",
    "\n",
    "* **Importante, Asegúrese de responder TODO lo que la pregunta pide.**\n",
    "* La estructura de la tarea es la siguiente:\n",
    "     1. Título, nombre de estudiante, email y rol.\n",
    "     2. Responder cada pregunta de forma personal.\n",
    "     5. Referencias. Es muy importante incluir todas las fuentes usadas, de otra forma se considera que lo no se ha citado adecuadamente es su trabajo.\n",
    "* La tarea debe ser realizada en `Jupyter Notebook` (`Python3`) entregado.\n",
    "* Recuerde responder la encuesta en el plazo establecido\n",
    "* Se evaluará la correcta utilización de librerias `NumPy`, `SciPy`, `Matplotlib` y `ipywidgets`, entre otras, así como la **correcta implementación de algoritmos vectorizados**.\n",
    "* **MUY IMPORTANTE** El archivo de entrega debe denominarse TareaN-rol.tar.gz y _notebook_ debe tener como nombre TareaN-rol.ipynb, donde $N$ es el número de la tarea y debe contener un directorio con todos los archivos necesarios para ejecutar el notebook, junto con un archivo README indicando explícitamente las librerías o módulos utilizados, nombre y rol del estudiante. Por cada error en este ambito implicará un descuento de 30 puntos.\n",
    "* El descuento por día de atraso será de $30$ puntos, con un máximo de 1 día de atraso. No se recibirán entregas después de este día.\n",
    "* Debe citar toda fuente de código externo. \n",
    "* El trabajo es personal, no se permite compartir código ni utilizar código de otros, aunque sí se sugiere discutir aspectos generales con sus compañeros.\n",
    "* En caso de sospecha de no cumplimiento de estas instrucciones, se solicitará al involucrado o la involucrada a aclarar la situación. Dependiendo de la justificación se decidirá su calificación, la cual podrá o no ser penalizada.\n",
    "* El no seguir estas instrucciones, implica descuentos en su nota obtenida."
   ]
  },
  {
   "cell_type": "markdown",
   "metadata": {},
   "source": [
    "# Referencias\n",
    "[1] https://docs.scipy.org/doc/scipy/reference/generated/scipy.sparse.csr_matrix.html#scipy.sparse.csr_matrix"
   ]
  },
  {
   "cell_type": "code",
   "execution_count": null,
   "metadata": {},
   "outputs": [],
   "source": []
  }
 ],
 "metadata": {
  "@webio": {
   "lastCommId": "c3bc6405bd5a44ea8b30eef2f7000858",
   "lastKernelId": "b9e96769-da91-4380-bba7-2f8d91f10369"
  },
  "kernelspec": {
   "display_name": "Python 3",
   "language": "python",
   "name": "python3"
  },
  "language_info": {
   "codemirror_mode": {
    "name": "ipython",
    "version": 3
   },
   "file_extension": ".py",
   "mimetype": "text/x-python",
   "name": "python",
   "nbconvert_exporter": "python",
   "pygments_lexer": "ipython3",
   "version": "3.7.3"
  }
 },
 "nbformat": 4,
 "nbformat_minor": 2
}
